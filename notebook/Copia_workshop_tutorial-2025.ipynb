{
  "cells": [
    {
      "cell_type": "markdown",
      "id": "641d868b",
      "metadata": {
        "id": "641d868b"
      },
      "source": [
        "# Workshop: Unseen Species Modelling Applied to Medieval Literature\n",
        "\n",
        "Teachers: Elisabeth de Bruijn, Mike Kestemont, and Katarzyna Anna Kapitan\n",
        "\n",
        "Date: 10 June 2025\n",
        "\n",
        "Place: École nationale des chartes, Paris\n",
        "\n",
        "## Introduction\n",
        "\n",
        "This workshop provides a hands-on introduction to Copia (https://copia.readthedocs.io/en/latest/intro.html), a statistical package for estimating the diversity and richness of taxa (species, works, categories of objects) on the basis of abundance data. The package was developed by Mike Kestemont and Folgert Karsdorp and has been used in studying, among other things, the loss of medieval chivalric and heroic literature (Kestemont et al. 2022, https://gwern.net/doc/statistics/survival-analysis/2022-kestemont.pdf).\n",
        "\n",
        "\n",
        "For our workshop today we will use the case study of medieval heroic and chivalric texts to introduce participants to this approach.\n",
        "\n",
        "The goals of the workshop are to teach participants how to:\n",
        "- prepare data for analysis,\n",
        "- conduct the analysis with Copia,\n",
        "- visualise and interpret the results.\n",
        "- apply the methodology to different datasets.\n",
        "\n",
        "\n",
        "If you take inspiration from this work, please cite the paper (https://www.science.org/doi/10.1126/science.abl7655) and its supplementary materials (https://www.science.org/action/downloadSupplement?doi=10.1126%2Fscience.abl7655&file=science.abl7655_sm.pdf).\n",
        "\n",
        "\n",
        "\n",
        "__Let's start by installing the package:__"
      ]
    },
    {
      "cell_type": "code",
      "execution_count": null,
      "id": "42807e00",
      "metadata": {
        "id": "42807e00",
        "colab": {
          "base_uri": "https://localhost:8080/"
        },
        "outputId": "0bb4bfcf-b3d8-400c-8e17-c9b46019c9bd"
      },
      "outputs": [
        {
          "output_type": "stream",
          "name": "stdout",
          "text": [
            "Collecting git+https://github.com/mikekestemont/copia.git\n",
            "  Cloning https://github.com/mikekestemont/copia.git to /tmp/pip-req-build-9vh_dzvl\n",
            "  Running command git clone --filter=blob:none --quiet https://github.com/mikekestemont/copia.git /tmp/pip-req-build-9vh_dzvl\n",
            "  Resolved https://github.com/mikekestemont/copia.git to commit 766c7d96cebcaab33589dc6eae1ef7f7eb6dd101\n",
            "  Preparing metadata (setup.py) ... \u001b[?25l\u001b[?25hdone\n",
            "Requirement already satisfied: pytest>=7.4 in /usr/local/lib/python3.11/dist-packages (from copia==0.1.5) (8.3.5)\n",
            "Requirement already satisfied: scipy>=1.11 in /usr/local/lib/python3.11/dist-packages (from copia==0.1.5) (1.15.3)\n",
            "Requirement already satisfied: numpy>=1.24 in /usr/local/lib/python3.11/dist-packages (from copia==0.1.5) (2.0.2)\n",
            "Requirement already satisfied: pandas>=2.1 in /usr/local/lib/python3.11/dist-packages (from copia==0.1.5) (2.2.2)\n",
            "Requirement already satisfied: matplotlib>=3.8 in /usr/local/lib/python3.11/dist-packages (from copia==0.1.5) (3.10.0)\n",
            "Requirement already satisfied: tqdm>=4.64 in /usr/local/lib/python3.11/dist-packages (from copia==0.1.5) (4.67.1)\n",
            "Requirement already satisfied: contourpy>=1.0.1 in /usr/local/lib/python3.11/dist-packages (from matplotlib>=3.8->copia==0.1.5) (1.3.2)\n",
            "Requirement already satisfied: cycler>=0.10 in /usr/local/lib/python3.11/dist-packages (from matplotlib>=3.8->copia==0.1.5) (0.12.1)\n",
            "Requirement already satisfied: fonttools>=4.22.0 in /usr/local/lib/python3.11/dist-packages (from matplotlib>=3.8->copia==0.1.5) (4.58.1)\n",
            "Requirement already satisfied: kiwisolver>=1.3.1 in /usr/local/lib/python3.11/dist-packages (from matplotlib>=3.8->copia==0.1.5) (1.4.8)\n",
            "Requirement already satisfied: packaging>=20.0 in /usr/local/lib/python3.11/dist-packages (from matplotlib>=3.8->copia==0.1.5) (24.2)\n",
            "Requirement already satisfied: pillow>=8 in /usr/local/lib/python3.11/dist-packages (from matplotlib>=3.8->copia==0.1.5) (11.2.1)\n",
            "Requirement already satisfied: pyparsing>=2.3.1 in /usr/local/lib/python3.11/dist-packages (from matplotlib>=3.8->copia==0.1.5) (3.2.3)\n",
            "Requirement already satisfied: python-dateutil>=2.7 in /usr/local/lib/python3.11/dist-packages (from matplotlib>=3.8->copia==0.1.5) (2.9.0.post0)\n",
            "Requirement already satisfied: pytz>=2020.1 in /usr/local/lib/python3.11/dist-packages (from pandas>=2.1->copia==0.1.5) (2025.2)\n",
            "Requirement already satisfied: tzdata>=2022.7 in /usr/local/lib/python3.11/dist-packages (from pandas>=2.1->copia==0.1.5) (2025.2)\n",
            "Requirement already satisfied: iniconfig in /usr/local/lib/python3.11/dist-packages (from pytest>=7.4->copia==0.1.5) (2.1.0)\n",
            "Requirement already satisfied: pluggy<2,>=1.5 in /usr/local/lib/python3.11/dist-packages (from pytest>=7.4->copia==0.1.5) (1.6.0)\n",
            "Requirement already satisfied: six>=1.5 in /usr/local/lib/python3.11/dist-packages (from python-dateutil>=2.7->matplotlib>=3.8->copia==0.1.5) (1.17.0)\n",
            "Building wheels for collected packages: copia\n",
            "  Building wheel for copia (setup.py) ... \u001b[?25l\u001b[?25hdone\n",
            "  Created wheel for copia: filename=copia-0.1.5-py3-none-any.whl size=29130 sha256=47d4bca99ed119d2d3282775f04ee1b646d700565ef172bc996ca79e21ef4059\n",
            "  Stored in directory: /tmp/pip-ephem-wheel-cache-n14vy7su/wheels/a6/73/a7/81a5bac3fb125a222df9ae91dd711d51dcd11d0bb9802575c8\n",
            "Successfully built copia\n",
            "Installing collected packages: copia\n",
            "Successfully installed copia-0.1.5\n"
          ]
        }
      ],
      "source": [
        "# Uncomment the line below if running for the first time in Colab.\n",
        "!pip install git+https://github.com/mikekestemont/copia.git"
      ]
    },
    {
      "cell_type": "markdown",
      "id": "a2a47d3c",
      "metadata": {
        "id": "a2a47d3c"
      },
      "source": [
        "*You might need to restart the kernel to continue*"
      ]
    },
    {
      "cell_type": "markdown",
      "id": "12359441-dc0e-41a5-a24b-c40f611e47b6",
      "metadata": {
        "id": "12359441-dc0e-41a5-a24b-c40f611e47b6"
      },
      "source": [
        "# 1. Data Preprocessing\n",
        "\n",
        "*This section is a revised copy of the tutorial: https://copia.readthedocs.io/en/latest/data.html*\n",
        "\n",
        "To evaluate species richness, two primary data types can be used: individual-based abundance data and sample-based incidence data. In our workshop we will focus on individual-based abundance data, represented by the `AbundanceData` object in `Copia`.\n",
        "\n",
        "This data representation disregards sampling units and records the total count for each species (across all sampling units).\n",
        "\n",
        "Regardless of how you collected your data, in order to conduct data analysis with `Copia`, we need to format our data as `AbundanceData`.\n",
        "\n",
        "To facilitate this, the `copia.data.to_copia_dataset()` function is designed to convert a collection of observations into a structured `Copia` dataset.\n",
        "\n",
        "Let's imagine we are on a biodiversity campaign in Paris and your task is to note down all the species you saw and how many times you saw them.\n",
        "\n",
        "You will probably see one or two dogs, the same for cats, and plenty of rats and pigeons. Let's say:\n",
        "- dog       1\n",
        "- cat       2\n",
        "- pigeon    4\n",
        "- rat       5\n",
        "\n",
        "In the code call bellow you see how to store our observations as `Pandas` `dataFrame`, and then use the `copia.data.to_copia_dataset()` function to convert it into `AbundanceData`."
      ]
    },
    {
      "cell_type": "code",
      "execution_count": null,
      "id": "4b835cf5-c8e9-4046-86db-3002caf56b05",
      "metadata": {
        "colab": {
          "base_uri": "https://localhost:8080/"
        },
        "id": "4b835cf5-c8e9-4046-86db-3002caf56b05",
        "outputId": "68b7b605-0180-4bb9-c037-b64340b76d4f"
      },
      "outputs": [
        {
          "output_type": "stream",
          "name": "stdout",
          "text": [
            "Our counts:\n",
            " dog       1\n",
            "cat       2\n",
            "pigeon    4\n",
            "rat       5\n",
            "dtype: int64\n",
            "Abundance Data:\n",
            " AbundanceData(S_obs=4, f1=1, f2=1, n=np.int64(12), counts=array([1, 2, 4, 5]))\n"
          ]
        }
      ],
      "source": [
        "from copia.data import to_copia_dataset\n",
        "import pandas as pd\n",
        "import numpy as np\n",
        "\n",
        "counts = pd.Series([1, 2, 4, 5], index=[\"dog\", \"cat\", \"pigeon\", \"rat\"])\n",
        "print(\"Our counts:\\n\", counts)\n",
        "\n",
        "ds = to_copia_dataset(counts, data_type=\"abundance\", input_type=\"counts\")\n",
        "print(\"Abundance Data:\\n\", ds)"
      ]
    },
    {
      "cell_type": "markdown",
      "id": "ff2bf0d3",
      "metadata": {
        "id": "ff2bf0d3"
      },
      "source": [
        "As you can see in the output of the call above, AbundanceData contains information about the total number of sightings ($n$), the total number of species observed($S_{obs}$), as well as how many of them were observed only once ($f_1$) and twice ($f_2$).\n",
        "\n",
        "- We saw four species in total: $S_{obs}$ = 4\n",
        "\n",
        "- We saw one species once (dog): $f_1$ = 1\n",
        "\n",
        "- We saw one species twice (cat): $f_2$ = 1\n",
        "\n",
        "- And we had a total of 12 sightings of all species (1 + 2 + 4 + 5 = 12), so $n$ = 12\n",
        "\n",
        "\n",
        "You can access each of these values individually in the following way:"
      ]
    },
    {
      "cell_type": "code",
      "source": [
        "print(ds.S_obs)\n",
        "print(ds.n)\n",
        "print(ds.f1)\n",
        "print(ds.f2)"
      ],
      "metadata": {
        "colab": {
          "base_uri": "https://localhost:8080/"
        },
        "id": "LHwLXT0GZ-jT",
        "outputId": "1be74258-63bf-4632-cdd7-ca4b9d3bf611"
      },
      "id": "LHwLXT0GZ-jT",
      "execution_count": null,
      "outputs": [
        {
          "output_type": "stream",
          "name": "stdout",
          "text": [
            "4\n",
            "12\n",
            "1\n",
            "1\n"
          ]
        }
      ]
    },
    {
      "cell_type": "markdown",
      "source": [
        "Why do we care about $f_1$ (singletons) and $f_2$ (doubletons), but not other counts?\n",
        "\n",
        "Because the Chao1 estimator formula that we will use in our experiments today requires information about two primary kinds of observations: the number of species observed only once (singletons, $f_1$) and the number of species observed twice (doubletons, $f_2$). These two quantities are crucial for estimating the unseen diversity in our dataset -- in other words -- estimating the number of species we didn't observe at all ($f_0$).  \n",
        "\n",
        "In the case of Paris, urban legend has it that there are squirrels in the city, but you barely ever see them. There are certainly other species that exist but are rarely observed. We want to estimate how many other species are like squirrels -- they exist, but we didn't see them."
      ],
      "metadata": {
        "id": "62xvX6pVaB4E"
      },
      "id": "62xvX6pVaB4E"
    },
    {
      "cell_type": "markdown",
      "id": "f68009d2",
      "metadata": {
        "id": "f68009d2"
      },
      "source": [
        "## 1.2 From Spreadsheets to AbundanceData\n",
        "\n",
        "Above, you saw how to manually create a DataFrame with your observations and then convert it into `AbundanceData`.\n",
        "\n",
        "You don't want to do it by hand, do you?\n",
        "\n",
        "So now let's learn how to load externally stored data about our observations and convert it into AbundanceData. Let's assume we have collected and stored information about your observations in a spreadsheet or a CSV file, where you record different species and their sightings.\n",
        "\n",
        "For the purpose of our workshop, let's leave the fauna of Paris behind and focus on medieval literature. Today, we will be counting titles of medieval literary works and the documents in which they are still extant. So, we will be registering the titles of the works you're interested in and the sigla of the witnesses, or the shelfmarks of the manuscripts preserving these works.\n",
        "\n",
        "We've prepared a dataset for you using the Icelandic dataset from our \"Forgotten Books\" paper.\n",
        "\n",
        "You can find the file here, if you want to give it a look: https://www.dropbox.com/scl/fi/483gj8lacxrj3u6y2papp/dum.csv?rlkey=1hueny19gcufpcdoo1b5pgb1a&st=5v716t3l&dl=0\n",
        "\n",
        "\n",
        "If you open it in Excel, you'll see that it can be represented as a simple spreadsheet where rows are individual sightings and columns record information about the names of the species (i.e. the titles of our medieval works) and where we saw them (i.e. the signatures of witnesses in which they are preserved).\n",
        "\n",
        "If you open the file with `SublimeText` or another plain text editor, you will see that in this CSV file, each new line corresponds to a row and that the columns are separated with a semicolon.\n",
        "\n",
        "We will use `Pandas` to convert information from our CSV file to `dataFrame` format."
      ]
    },
    {
      "cell_type": "code",
      "execution_count": null,
      "id": "42a7e06d",
      "metadata": {
        "colab": {
          "base_uri": "https://localhost:8080/",
          "height": 362
        },
        "id": "42a7e06d",
        "outputId": "b3f7a29f-1e23-46da-9d0f-70c01d5d5ece"
      },
      "outputs": [
        {
          "output_type": "execute_result",
          "data": {
            "text/plain": [
              "                              work  \\\n",
              "0     Adónías saga (riddarasögur)   \n",
              "1     Adónías saga (riddarasögur)   \n",
              "2     Adónías saga (riddarasögur)   \n",
              "3     Adónías saga (riddarasögur)   \n",
              "4     Adónías saga (riddarasögur)   \n",
              "5     Adónías saga (riddarasögur)   \n",
              "6     Adónías saga (riddarasögur)   \n",
              "7  Ála flekks saga (riddarasögur)   \n",
              "8  Ála flekks saga (riddarasögur)   \n",
              "9  Alexanders saga (riddarasögur)   \n",
              "\n",
              "                                           signature  \n",
              "0  Arnamagnæan Collection: Reykjavík: AM 567 4to ...  \n",
              "1  Arnamagnæan Collection: Reykjavík: AM 567 4to ...  \n",
              "2    Arnamagnæan Collection: Copenhagen: AM 570a 4to  \n",
              "3      Arnamagnæan Collection: Reykjavík: AM 579 4to  \n",
              "4     Arnamagnæan Collection: Reykjavík: AM 593a 4to  \n",
              "5    Royal Library  Copenhagen: NKS 1265 fol.  II  c  \n",
              "6          Royal Library  Stockholm: Perg. fol. nr 7  \n",
              "7      Arnamagnæan Collection: Reykjavík: AM 571 4to  \n",
              "8     Arnamagnæan Collection: Reykjavík: AM 589e 4to  \n",
              "9    Arnamagnæan Collection: Copenhagen: AM 225 fol.  "
            ],
            "text/html": [
              "\n",
              "  <div id=\"df-21a2f3ee-896f-4593-ba6d-11e741790a8c\" class=\"colab-df-container\">\n",
              "    <div>\n",
              "<style scoped>\n",
              "    .dataframe tbody tr th:only-of-type {\n",
              "        vertical-align: middle;\n",
              "    }\n",
              "\n",
              "    .dataframe tbody tr th {\n",
              "        vertical-align: top;\n",
              "    }\n",
              "\n",
              "    .dataframe thead th {\n",
              "        text-align: right;\n",
              "    }\n",
              "</style>\n",
              "<table border=\"1\" class=\"dataframe\">\n",
              "  <thead>\n",
              "    <tr style=\"text-align: right;\">\n",
              "      <th></th>\n",
              "      <th>work</th>\n",
              "      <th>signature</th>\n",
              "    </tr>\n",
              "  </thead>\n",
              "  <tbody>\n",
              "    <tr>\n",
              "      <th>0</th>\n",
              "      <td>Adónías saga (riddarasögur)</td>\n",
              "      <td>Arnamagnæan Collection: Reykjavík: AM 567 4to ...</td>\n",
              "    </tr>\n",
              "    <tr>\n",
              "      <th>1</th>\n",
              "      <td>Adónías saga (riddarasögur)</td>\n",
              "      <td>Arnamagnæan Collection: Reykjavík: AM 567 4to ...</td>\n",
              "    </tr>\n",
              "    <tr>\n",
              "      <th>2</th>\n",
              "      <td>Adónías saga (riddarasögur)</td>\n",
              "      <td>Arnamagnæan Collection: Copenhagen: AM 570a 4to</td>\n",
              "    </tr>\n",
              "    <tr>\n",
              "      <th>3</th>\n",
              "      <td>Adónías saga (riddarasögur)</td>\n",
              "      <td>Arnamagnæan Collection: Reykjavík: AM 579 4to</td>\n",
              "    </tr>\n",
              "    <tr>\n",
              "      <th>4</th>\n",
              "      <td>Adónías saga (riddarasögur)</td>\n",
              "      <td>Arnamagnæan Collection: Reykjavík: AM 593a 4to</td>\n",
              "    </tr>\n",
              "    <tr>\n",
              "      <th>5</th>\n",
              "      <td>Adónías saga (riddarasögur)</td>\n",
              "      <td>Royal Library  Copenhagen: NKS 1265 fol.  II  c</td>\n",
              "    </tr>\n",
              "    <tr>\n",
              "      <th>6</th>\n",
              "      <td>Adónías saga (riddarasögur)</td>\n",
              "      <td>Royal Library  Stockholm: Perg. fol. nr 7</td>\n",
              "    </tr>\n",
              "    <tr>\n",
              "      <th>7</th>\n",
              "      <td>Ála flekks saga (riddarasögur)</td>\n",
              "      <td>Arnamagnæan Collection: Reykjavík: AM 571 4to</td>\n",
              "    </tr>\n",
              "    <tr>\n",
              "      <th>8</th>\n",
              "      <td>Ála flekks saga (riddarasögur)</td>\n",
              "      <td>Arnamagnæan Collection: Reykjavík: AM 589e 4to</td>\n",
              "    </tr>\n",
              "    <tr>\n",
              "      <th>9</th>\n",
              "      <td>Alexanders saga (riddarasögur)</td>\n",
              "      <td>Arnamagnæan Collection: Copenhagen: AM 225 fol.</td>\n",
              "    </tr>\n",
              "  </tbody>\n",
              "</table>\n",
              "</div>\n",
              "    <div class=\"colab-df-buttons\">\n",
              "\n",
              "  <div class=\"colab-df-container\">\n",
              "    <button class=\"colab-df-convert\" onclick=\"convertToInteractive('df-21a2f3ee-896f-4593-ba6d-11e741790a8c')\"\n",
              "            title=\"Convert this dataframe to an interactive table.\"\n",
              "            style=\"display:none;\">\n",
              "\n",
              "  <svg xmlns=\"http://www.w3.org/2000/svg\" height=\"24px\" viewBox=\"0 -960 960 960\">\n",
              "    <path d=\"M120-120v-720h720v720H120Zm60-500h600v-160H180v160Zm220 220h160v-160H400v160Zm0 220h160v-160H400v160ZM180-400h160v-160H180v160Zm440 0h160v-160H620v160ZM180-180h160v-160H180v160Zm440 0h160v-160H620v160Z\"/>\n",
              "  </svg>\n",
              "    </button>\n",
              "\n",
              "  <style>\n",
              "    .colab-df-container {\n",
              "      display:flex;\n",
              "      gap: 12px;\n",
              "    }\n",
              "\n",
              "    .colab-df-convert {\n",
              "      background-color: #E8F0FE;\n",
              "      border: none;\n",
              "      border-radius: 50%;\n",
              "      cursor: pointer;\n",
              "      display: none;\n",
              "      fill: #1967D2;\n",
              "      height: 32px;\n",
              "      padding: 0 0 0 0;\n",
              "      width: 32px;\n",
              "    }\n",
              "\n",
              "    .colab-df-convert:hover {\n",
              "      background-color: #E2EBFA;\n",
              "      box-shadow: 0px 1px 2px rgba(60, 64, 67, 0.3), 0px 1px 3px 1px rgba(60, 64, 67, 0.15);\n",
              "      fill: #174EA6;\n",
              "    }\n",
              "\n",
              "    .colab-df-buttons div {\n",
              "      margin-bottom: 4px;\n",
              "    }\n",
              "\n",
              "    [theme=dark] .colab-df-convert {\n",
              "      background-color: #3B4455;\n",
              "      fill: #D2E3FC;\n",
              "    }\n",
              "\n",
              "    [theme=dark] .colab-df-convert:hover {\n",
              "      background-color: #434B5C;\n",
              "      box-shadow: 0px 1px 3px 1px rgba(0, 0, 0, 0.15);\n",
              "      filter: drop-shadow(0px 1px 2px rgba(0, 0, 0, 0.3));\n",
              "      fill: #FFFFFF;\n",
              "    }\n",
              "  </style>\n",
              "\n",
              "    <script>\n",
              "      const buttonEl =\n",
              "        document.querySelector('#df-21a2f3ee-896f-4593-ba6d-11e741790a8c button.colab-df-convert');\n",
              "      buttonEl.style.display =\n",
              "        google.colab.kernel.accessAllowed ? 'block' : 'none';\n",
              "\n",
              "      async function convertToInteractive(key) {\n",
              "        const element = document.querySelector('#df-21a2f3ee-896f-4593-ba6d-11e741790a8c');\n",
              "        const dataTable =\n",
              "          await google.colab.kernel.invokeFunction('convertToInteractive',\n",
              "                                                    [key], {});\n",
              "        if (!dataTable) return;\n",
              "\n",
              "        const docLinkHtml = 'Like what you see? Visit the ' +\n",
              "          '<a target=\"_blank\" href=https://colab.research.google.com/notebooks/data_table.ipynb>data table notebook</a>'\n",
              "          + ' to learn more about interactive tables.';\n",
              "        element.innerHTML = '';\n",
              "        dataTable['output_type'] = 'display_data';\n",
              "        await google.colab.output.renderOutput(dataTable, element);\n",
              "        const docLink = document.createElement('div');\n",
              "        docLink.innerHTML = docLinkHtml;\n",
              "        element.appendChild(docLink);\n",
              "      }\n",
              "    </script>\n",
              "  </div>\n",
              "\n",
              "\n",
              "    <div id=\"df-9a1a8bb1-1ab4-48aa-97a6-1b50a58d0e00\">\n",
              "      <button class=\"colab-df-quickchart\" onclick=\"quickchart('df-9a1a8bb1-1ab4-48aa-97a6-1b50a58d0e00')\"\n",
              "                title=\"Suggest charts\"\n",
              "                style=\"display:none;\">\n",
              "\n",
              "<svg xmlns=\"http://www.w3.org/2000/svg\" height=\"24px\"viewBox=\"0 0 24 24\"\n",
              "     width=\"24px\">\n",
              "    <g>\n",
              "        <path d=\"M19 3H5c-1.1 0-2 .9-2 2v14c0 1.1.9 2 2 2h14c1.1 0 2-.9 2-2V5c0-1.1-.9-2-2-2zM9 17H7v-7h2v7zm4 0h-2V7h2v10zm4 0h-2v-4h2v4z\"/>\n",
              "    </g>\n",
              "</svg>\n",
              "      </button>\n",
              "\n",
              "<style>\n",
              "  .colab-df-quickchart {\n",
              "      --bg-color: #E8F0FE;\n",
              "      --fill-color: #1967D2;\n",
              "      --hover-bg-color: #E2EBFA;\n",
              "      --hover-fill-color: #174EA6;\n",
              "      --disabled-fill-color: #AAA;\n",
              "      --disabled-bg-color: #DDD;\n",
              "  }\n",
              "\n",
              "  [theme=dark] .colab-df-quickchart {\n",
              "      --bg-color: #3B4455;\n",
              "      --fill-color: #D2E3FC;\n",
              "      --hover-bg-color: #434B5C;\n",
              "      --hover-fill-color: #FFFFFF;\n",
              "      --disabled-bg-color: #3B4455;\n",
              "      --disabled-fill-color: #666;\n",
              "  }\n",
              "\n",
              "  .colab-df-quickchart {\n",
              "    background-color: var(--bg-color);\n",
              "    border: none;\n",
              "    border-radius: 50%;\n",
              "    cursor: pointer;\n",
              "    display: none;\n",
              "    fill: var(--fill-color);\n",
              "    height: 32px;\n",
              "    padding: 0;\n",
              "    width: 32px;\n",
              "  }\n",
              "\n",
              "  .colab-df-quickchart:hover {\n",
              "    background-color: var(--hover-bg-color);\n",
              "    box-shadow: 0 1px 2px rgba(60, 64, 67, 0.3), 0 1px 3px 1px rgba(60, 64, 67, 0.15);\n",
              "    fill: var(--button-hover-fill-color);\n",
              "  }\n",
              "\n",
              "  .colab-df-quickchart-complete:disabled,\n",
              "  .colab-df-quickchart-complete:disabled:hover {\n",
              "    background-color: var(--disabled-bg-color);\n",
              "    fill: var(--disabled-fill-color);\n",
              "    box-shadow: none;\n",
              "  }\n",
              "\n",
              "  .colab-df-spinner {\n",
              "    border: 2px solid var(--fill-color);\n",
              "    border-color: transparent;\n",
              "    border-bottom-color: var(--fill-color);\n",
              "    animation:\n",
              "      spin 1s steps(1) infinite;\n",
              "  }\n",
              "\n",
              "  @keyframes spin {\n",
              "    0% {\n",
              "      border-color: transparent;\n",
              "      border-bottom-color: var(--fill-color);\n",
              "      border-left-color: var(--fill-color);\n",
              "    }\n",
              "    20% {\n",
              "      border-color: transparent;\n",
              "      border-left-color: var(--fill-color);\n",
              "      border-top-color: var(--fill-color);\n",
              "    }\n",
              "    30% {\n",
              "      border-color: transparent;\n",
              "      border-left-color: var(--fill-color);\n",
              "      border-top-color: var(--fill-color);\n",
              "      border-right-color: var(--fill-color);\n",
              "    }\n",
              "    40% {\n",
              "      border-color: transparent;\n",
              "      border-right-color: var(--fill-color);\n",
              "      border-top-color: var(--fill-color);\n",
              "    }\n",
              "    60% {\n",
              "      border-color: transparent;\n",
              "      border-right-color: var(--fill-color);\n",
              "    }\n",
              "    80% {\n",
              "      border-color: transparent;\n",
              "      border-right-color: var(--fill-color);\n",
              "      border-bottom-color: var(--fill-color);\n",
              "    }\n",
              "    90% {\n",
              "      border-color: transparent;\n",
              "      border-bottom-color: var(--fill-color);\n",
              "    }\n",
              "  }\n",
              "</style>\n",
              "\n",
              "      <script>\n",
              "        async function quickchart(key) {\n",
              "          const quickchartButtonEl =\n",
              "            document.querySelector('#' + key + ' button');\n",
              "          quickchartButtonEl.disabled = true;  // To prevent multiple clicks.\n",
              "          quickchartButtonEl.classList.add('colab-df-spinner');\n",
              "          try {\n",
              "            const charts = await google.colab.kernel.invokeFunction(\n",
              "                'suggestCharts', [key], {});\n",
              "          } catch (error) {\n",
              "            console.error('Error during call to suggestCharts:', error);\n",
              "          }\n",
              "          quickchartButtonEl.classList.remove('colab-df-spinner');\n",
              "          quickchartButtonEl.classList.add('colab-df-quickchart-complete');\n",
              "        }\n",
              "        (() => {\n",
              "          let quickchartButtonEl =\n",
              "            document.querySelector('#df-9a1a8bb1-1ab4-48aa-97a6-1b50a58d0e00 button');\n",
              "          quickchartButtonEl.style.display =\n",
              "            google.colab.kernel.accessAllowed ? 'block' : 'none';\n",
              "        })();\n",
              "      </script>\n",
              "    </div>\n",
              "\n",
              "    </div>\n",
              "  </div>\n"
            ],
            "application/vnd.google.colaboratory.intrinsic+json": {
              "type": "dataframe",
              "variable_name": "df_works_and_docs",
              "summary": "{\n  \"name\": \"df_works_and_docs\",\n  \"rows\": 294,\n  \"fields\": [\n    {\n      \"column\": \"work\",\n      \"properties\": {\n        \"dtype\": \"category\",\n        \"num_unique_values\": 117,\n        \"samples\": [\n          \"Vilhj\\u00e1lms saga sj\\u00f3\\u00f0s (riddaraso\\u0308gur)\",\n          \"Breta saga (riddaraso\\u0308gur)\",\n          \"Hektors r\\u00edmur (riddarari\\u0301mur)\"\n        ],\n        \"semantic_type\": \"\",\n        \"description\": \"\"\n      }\n    },\n    {\n      \"column\": \"signature\",\n      \"properties\": {\n        \"dtype\": \"category\",\n        \"num_unique_values\": 137,\n        \"samples\": [\n          \"Arnamagn\\u00e6an Collection  Reykjav\\u00edk: AM 344 a 4to\",\n          \"Arnamagn\\u00e6an Collection  Reykjav\\u00edk: AM 343 a 4to\",\n          \"Arnamagn\\u00e6an Collection: Copenhagen: AM 655 4to XXIX\"\n        ],\n        \"semantic_type\": \"\",\n        \"description\": \"\"\n      }\n    }\n  ]\n}"
            }
          },
          "metadata": {},
          "execution_count": 6
        }
      ],
      "source": [
        "df_works_and_docs = pd.read_csv(\"https://www.dropbox.com/scl/fi/483gj8lacxrj3u6y2papp/dum.csv?rlkey=1hueny19gcufpcdoo1b5pgb1a&st=5v716t3l&dl=1\", sep = \";\")\n",
        "df_works_and_docs.columns = 'work', 'signature'\n",
        "df_works_and_docs.head(10)"
      ]
    },
    {
      "cell_type": "markdown",
      "id": "2febc089",
      "metadata": {
        "id": "2febc089"
      },
      "source": [
        "And then we will use the `copia.data.to_copia_dataset()` function to structure it into the AbundanceData"
      ]
    },
    {
      "cell_type": "code",
      "execution_count": null,
      "id": "b1763595",
      "metadata": {
        "colab": {
          "base_uri": "https://localhost:8080/"
        },
        "id": "b1763595",
        "outputId": "634b5a7a-ad52-4ab6-d0d9-b4b1317a203b"
      },
      "outputs": [
        {
          "output_type": "stream",
          "name": "stdout",
          "text": [
            "AbundanceData(S_obs=117, f1=44, f2=28, n=np.int64(294), counts=array([9, 8, 8, 7, 7, 6, 6, 6, 6, 5, 5, 5, 5, 5, 4, 4, 4, 4, 4, 4, 4, 4,\n",
            "       4, 4, 4, 4, 4, 3, 3, 3, 3, 3, 3, 3, 3, 3, 3, 3, 3, 3, 3, 3, 3, 3,\n",
            "       3, 2, 2, 2, 2, 2, 2, 2, 2, 2, 2, 2, 2, 2, 2, 2, 2, 2, 2, 2, 2, 2,\n",
            "       2, 2, 2, 2, 2, 2, 2, 1, 1, 1, 1, 1, 1, 1, 1, 1, 1, 1, 1, 1, 1, 1,\n",
            "       1, 1, 1, 1, 1, 1, 1, 1, 1, 1, 1, 1, 1, 1, 1, 1, 1, 1, 1, 1, 1, 1,\n",
            "       1, 1, 1, 1, 1, 1, 1]))\n"
          ]
        }
      ],
      "source": [
        "ds_works_and_docs = to_copia_dataset(\n",
        "    df_works_and_docs, data_type=\"abundance\", input_type=\"observations\", index_column=\"work\")\n",
        "print(ds_works_and_docs)"
      ]
    },
    {
      "cell_type": "markdown",
      "id": "945d800c",
      "metadata": {
        "id": "945d800c"
      },
      "source": [
        "# 2. Analysis\n",
        "\n",
        "Now that we know how to get our data into the correct format, let's see whether we can analyse it.\n",
        "\n",
        "In this section, we will learn how to estimate species richness, or –- in our case, the medieval diversity of works.\n",
        "\n",
        "\n",
        "## 2.1 Species Richness, or Estimating the Number of Works\n",
        "\n",
        "*This part of the tutorial is a revised version of the following tutorial:*\n",
        "- *https://copia.readthedocs.io/en/latest/estimation.html*\n",
        "\n",
        "\n",
        "We use the `copia.estimators` module to estimate unbiased diversity.\n",
        "\n",
        "What does this mean?\n",
        "\n",
        "In terms of our biodiversity campaign in Paris, we want to estimate how many species we did not see, based on our observation sample (so, how many species are just like squirrels, we rarely see them).\n",
        "In terms of medieval literature, we want to estimate how many works were produced in the Middle Ages but didn't survive, based on the number of those we know today. For this, we will use the Chao1 estimator.\n",
        "\n",
        "The Chao1 estimator is a statistical method used in ecology and biodiversity studies to estimate the number of species in a community, including those not observed.\n",
        "\n",
        "It provides a lower bound estimate of the unseen species count. This means:\n",
        "- The estimator gives a minimum estimate of how many species are likely missing from your sample — that is, species that exist in the environment but weren't detected during sampling.\n",
        "- It’s conservative — it does not overestimate. The real number of unseen species is likely higher, but this method ensures you don’t guess too high.\n",
        "- It’s based on the number of rare species in your sample — specifically, the number of species observed once (our $f_1$ - singletons) and twice (our $f_2$ - doubletons). The more singletons you observe, the more likely it is that many species remain unseen.\n",
        "\n",
        "In short, Chao1 uses the rare species in your sample to estimate the minimum number of species you're likely missing — hence a lower bound.\n",
        "\n",
        "A side note: we can use different estimators, all included in `Copia`.  All estimators can be accessed through a single entry point: the `diversity()` function.\n",
        "\n",
        "Let's check the `chao1` method first:"
      ]
    },
    {
      "cell_type": "code",
      "execution_count": null,
      "id": "64e32c64",
      "metadata": {
        "colab": {
          "base_uri": "https://localhost:8080/"
        },
        "id": "64e32c64",
        "outputId": "31b9f3b2-4d0e-41ce-822b-a6ccae4e9f6a"
      },
      "outputs": [
        {
          "output_type": "stream",
          "name": "stdout",
          "text": [
            "Estimated 'original' number of works: 151\n"
          ]
        }
      ],
      "source": [
        "from copia.estimators import diversity\n",
        "\n",
        "chao1_estimate_rounded = round(diversity(ds_works_and_docs, method='chao1'))\n",
        "print(\"Estimated 'original' number of works:\", chao1_estimate_rounded)"
      ]
    },
    {
      "cell_type": "markdown",
      "id": "d4130d64",
      "metadata": {
        "id": "d4130d64"
      },
      "source": [
        "So `chao1` estimates that there were __at least 151 works__ produced in the Middle Ages.\n",
        "\n",
        "\n",
        "\n",
        "\n",
        "In addition to `chao1`, Copia includes a variety of other estimators allowing you to estimate the number or lost works (`ichao1`, `ace`, `jackknife`, and `egghe_proot`). You can read about the mathematical principles behind each of them in the `Copia` documentation.\n",
        "\n",
        "For the purpose of our workshop, you can check them out below to confirm that  `chao1` is actually the most conservative of all these methods:"
      ]
    },
    {
      "cell_type": "code",
      "execution_count": null,
      "id": "ad9c265e",
      "metadata": {
        "colab": {
          "base_uri": "https://localhost:8080/"
        },
        "id": "ad9c265e",
        "outputId": "4b0d9af6-3ffb-4a6c-9e30-69b57d57f9f2"
      },
      "outputs": [
        {
          "output_type": "stream",
          "name": "stdout",
          "text": [
            "chao1 : 151\n",
            "ichao1 : 160\n",
            "ace : 162\n",
            "jackknife : 161\n",
            "egghe_proot : 162\n"
          ]
        }
      ],
      "source": [
        "for method in ('chao1', 'ichao1', 'ace', 'jackknife', 'egghe_proot'):\n",
        "    print(method, ':', round(diversity(ds_works_and_docs, method=method)))"
      ]
    },
    {
      "cell_type": "markdown",
      "id": "d52adf27",
      "metadata": {
        "id": "d52adf27"
      },
      "source": [
        "What is worth remembering is that while the Chao1 estimator provides a **lower bound estimate of the unseen species count**; this estimate itself has an associated range, defined by a lower and upper bound. These represent the confidence interval around the estimate.\n",
        "\n",
        "Two common approaches to obtaining this confidence interval include analytical solutions and bootstrap procedures. In `Copia`, the bootstrap procedure is implemented to derive these bounds.\n",
        "\n",
        "To enable this feature, set the `CI` parameter to `True` when calling the function. To speed things up, we will set the number of iterations (`n_iter`) to `100`, but normally you would rather set it to a much higher number, such as `10000`."
      ]
    },
    {
      "cell_type": "code",
      "execution_count": null,
      "id": "8689850f",
      "metadata": {
        "colab": {
          "base_uri": "https://localhost:8080/",
          "height": 118,
          "referenced_widgets": [
            "604ad9c7cd6c46bf878024f079a184d6",
            "58da4bab466a413db6c821d94078fde1",
            "c3bdad591ac149518d4198f949f6089e",
            "f361ea35be924709a6681b7c0e5e2a8a",
            "ee53a9a7187c4ea490fd50d6916e942c",
            "e4d9e88feee94d0f8b412613cb2cbd26",
            "06cc7c98a4ce4a1dab339e4536931b50",
            "eb75a77304d94587a7b7307fcdc57f80",
            "1c6bd9da650247a49e5c1ac07eac5749",
            "0047f285ee3c46d495dbe041f42108d7",
            "87e41bc6afdc47279626e0e0d24a3020"
          ]
        },
        "id": "8689850f",
        "outputId": "20832e8e-d197-4317-8910-2ec9f731ad81"
      },
      "outputs": [
        {
          "output_type": "display_data",
          "data": {
            "text/plain": [
              "  0%|          | 0/10000 [00:00<?, ?it/s]"
            ],
            "application/vnd.jupyter.widget-view+json": {
              "version_major": 2,
              "version_minor": 0,
              "model_id": "604ad9c7cd6c46bf878024f079a184d6"
            }
          },
          "metadata": {}
        },
        {
          "output_type": "stream",
          "name": "stdout",
          "text": [
            "est    151.453839\n",
            "lci    129.055135\n",
            "uci    183.713281\n",
            "Name: 0, dtype: float64\n"
          ]
        }
      ],
      "source": [
        "works_Chao1_interval = diversity(ds_works_and_docs, method='chao1', CI=True, n_iter=10000, n_jobs=1)\n",
        "print(works_Chao1_interval)"
      ]
    },
    {
      "cell_type": "markdown",
      "source": [
        "So after 100 iterations, we see that our estimate is around 151 (in our run: `est` = 151.4538), with a confidence interval ranging from around 130 (our run: `lci` = 129.0892) to around 185 (our run: `uci` = 183.5414).\n",
        "\n",
        "__Note that your exact numbers will vary slightly each time you run this function.__  \n",
        "\n",
        "What does this mean?\n",
        "\n",
        "- 151 is our point estimate — the single best guess.\n",
        "\n",
        "- [129, 183] is our uncertainty range, derived from the empirical distribution of estimates under resampling.\n",
        "\n",
        "\n",
        "We estimate that there are about 151 distinct types (species) in the dataset. Based on 100 bootstrap samples, we are confident that the true number lies between 129 and 184.\n",
        "\n",
        "The confidence interval spans approximately 54 units, or so about 18%. The lower bound is roughly 15% less than the estimate, and the upper bound about 21% more than the estimate.\n",
        "\n",
        "Is this good or bad? How should we interpret confidence intervals?\n",
        "\n",
        "Well... if the interval were ±50% or more, that would be considered \"large\" and if it were ±5%, it would be \"tight\", so super good (and quite rare in unseen species estimation). We are somehwere in between with our 18%, so not too bad.  :)\n",
        "\n",
        "\n",
        "\n",
        "\n"
      ],
      "metadata": {
        "id": "_TwDfgcWrIjf"
      },
      "id": "_TwDfgcWrIjf"
    },
    {
      "cell_type": "markdown",
      "id": "caf9c860",
      "metadata": {
        "id": "caf9c860"
      },
      "source": [
        "## 2.2 Species Accumulation\n",
        "\n",
        "*This part of the tutorial is a revised version of the following tutorial:*\n",
        "- *https://copia.readthedocs.io/en/latest/rarefaction.html*\n",
        "\n",
        "In this section, we move from estimating the number of lost works to estimating the number of lost witnesses.\n",
        "\n",
        "We start by introducing the concept of species accumulation curves.\n",
        "Species accumulation curves illustrate the relationship between the number of unique species and the increment in sample size (i.e., the number of observations).\n",
        "\n",
        "These curves offer a sort of peek into the future: they show how many unique species we are expected to find if we were to continue sampling more items -- into infinity.\n",
        "\n",
        "With `Copia`, you can compute this relationship using the `species_accumulation()` function.\n",
        "\n",
        "Examine the output of the following function and the following plot for a practical demonstration:"
      ]
    },
    {
      "cell_type": "code",
      "execution_count": null,
      "id": "50897e51",
      "metadata": {
        "colab": {
          "base_uri": "https://localhost:8080/",
          "height": 309,
          "referenced_widgets": [
            "c35717e757f54ef4b4d842a455e78da7",
            "73db6897541d4aeda9b92096feb55737",
            "895de00145c24f838806a321cdb9ef66",
            "9cdc31e75960483fb30b59e85af236d8",
            "457d75c75d0847e591dc413ad9a1c607",
            "d835da9ab2224baaaedf1d15a4b71f0c",
            "88b214bb67c4471f82381a10287db461",
            "5d49a4e036134859b17685bc98f76d24",
            "5f3c51a037a842fab113f603e766dcf0",
            "0f5bade3ad754621874438ab45b3a35a",
            "a4909e348de34036912fdd8348b751fd"
          ]
        },
        "id": "50897e51",
        "outputId": "12d57771-2baa-4a7b-e120-21dc45807bfc"
      },
      "outputs": [
        {
          "output_type": "display_data",
          "data": {
            "text/plain": [
              "  0%|          | 0/200 [00:00<?, ?it/s]"
            ],
            "application/vnd.jupyter.widget-view+json": {
              "version_major": 2,
              "version_minor": 0,
              "model_id": "c35717e757f54ef4b4d842a455e78da7"
            }
          },
          "metadata": {}
        },
        {
          "output_type": "stream",
          "name": "stdout",
          "text": [
            "              est         lci         uci  interpolated\n",
            "steps                                                  \n",
            "1        1.000000    1.000000    1.000000          True\n",
            "11      10.501987   10.394782   10.587386          True\n",
            "21      19.169898   18.810106   19.462794          True\n",
            "31      27.096078   26.393285   27.664592          True\n",
            "41      34.361636   33.265901   35.243296          True\n",
            "...           ...         ...         ...           ...\n",
            "1461   151.234819  131.195382  177.437576         False\n",
            "1471   151.244109  131.192422  177.485964         False\n",
            "1481   151.253005  131.189459  177.532910         False\n",
            "1491   151.261524  131.186495  177.578458         False\n",
            "1501   151.269682  131.183535  177.622651         False\n",
            "\n",
            "[151 rows x 4 columns]\n"
          ]
        }
      ],
      "source": [
        "from copia.rarefaction_extrapolation import species_accumulation\n",
        "\n",
        "accumulation = species_accumulation(ds_works_and_docs, max_steps=1500, n_iter=200, step_size=10)\n",
        "print(accumulation)\n"
      ]
    },
    {
      "cell_type": "code",
      "execution_count": null,
      "id": "43d6684a",
      "metadata": {
        "colab": {
          "base_uri": "https://localhost:8080/",
          "height": 388
        },
        "id": "43d6684a",
        "outputId": "8bd17576-484a-424b-df22-0255d9a01c95"
      },
      "outputs": [
        {
          "output_type": "display_data",
          "data": {
            "text/plain": [
              "<Figure size 600x400 with 1 Axes>"
            ],
            "image/png": "[encoded data removed]"
          },
          "metadata": {}
        }
      ],
      "source": [
        "import matplotlib.pyplot as plt\n",
        "from copia.plot import accumulation_curve\n",
        "\n",
        "fig, ax = plt.subplots(figsize=(6, 4))\n",
        "\n",
        "accumulation_curve(\n",
        "    ds_works_and_docs, accumulation, ax=ax, xlabel=\"Number of witnesses\", ylabel=\"Number of works\");"
      ]
    },
    {
      "cell_type": "markdown",
      "source": [
        "In the figure above, the plotted curve illustrates the state of our observed (empirical) data and the prediction of how our data would look if we continued observations.\n",
        "\n",
        "The large blue dot represents the empirical species richness. We already know what it is from our `AbundanceData`. Do you remember what it was? If not, we can look at our `ds_works_and_docs` again:"
      ],
      "metadata": {
        "id": "pnf-_ojZMM-1"
      },
      "id": "pnf-_ojZMM-1"
    },
    {
      "cell_type": "code",
      "source": [
        "print(\"AbundanceData: \", ds_works_and_docs)\n",
        "\n",
        "observed_species = ds_works_and_docs.S_obs\n",
        "print(\"Number of observed species: \", observed_species)\n",
        "\n",
        "observations = ds_works_and_docs.n\n",
        "print(\"Number of observations:\", observations)"
      ],
      "metadata": {
        "colab": {
          "base_uri": "https://localhost:8080/"
        },
        "id": "teQV-UdgMIpo",
        "outputId": "861b1524-0195-46bf-e2ef-a75c46151145"
      },
      "id": "teQV-UdgMIpo",
      "execution_count": null,
      "outputs": [
        {
          "output_type": "stream",
          "name": "stdout",
          "text": [
            "AbundanceData:  AbundanceData(S_obs=117, f1=44, f2=28, n=np.int64(294), counts=array([9, 8, 8, 7, 7, 6, 6, 6, 6, 5, 5, 5, 5, 5, 4, 4, 4, 4, 4, 4, 4, 4,\n",
            "       4, 4, 4, 4, 4, 3, 3, 3, 3, 3, 3, 3, 3, 3, 3, 3, 3, 3, 3, 3, 3, 3,\n",
            "       3, 2, 2, 2, 2, 2, 2, 2, 2, 2, 2, 2, 2, 2, 2, 2, 2, 2, 2, 2, 2, 2,\n",
            "       2, 2, 2, 2, 2, 2, 2, 1, 1, 1, 1, 1, 1, 1, 1, 1, 1, 1, 1, 1, 1, 1,\n",
            "       1, 1, 1, 1, 1, 1, 1, 1, 1, 1, 1, 1, 1, 1, 1, 1, 1, 1, 1, 1, 1, 1,\n",
            "       1, 1, 1, 1, 1, 1, 1]))\n",
            "Number of observed species:  117\n",
            "Number of observations: 294\n"
          ]
        }
      ]
    },
    {
      "cell_type": "markdown",
      "id": "cfb0ff6a",
      "metadata": {
        "id": "cfb0ff6a"
      },
      "source": [
        "So you can see that the blue dot representing the empirical species richness is placed at the intersection of $S_{obs}$ (117) and $n$ (294).\n",
        "\n",
        "\n",
        "In the plot, we see:\n",
        "- a solid line on the left, the interpolated accumulation of species with increased sampling (the rarefaction part)\n",
        "- a dashed line on the right, which is a projection into the future, showing the anticipated discovery of new species or works with further document sampling (the extrapolation part).\n",
        "\n",
        "\n",
        "\n",
        "Notably, the curve begins to flatten around 1000 documents, suggesting that beyond this point, no new unseen works are expected to be found according to the estimator.\n",
        "\n",
        "If you don't want to approximate this number from the curve, you can examine the data. We will save it to a file, which you will be able to open in any plain text editor."
      ]
    },
    {
      "cell_type": "code",
      "source": [
        "accumulation.to_csv(\"accumulation_output.csv\", sep=\"\\t\", index=True)"
      ],
      "metadata": {
        "id": "mH1QVDDfQtjz"
      },
      "id": "mH1QVDDfQtjz",
      "execution_count": null,
      "outputs": []
    },
    {
      "cell_type": "markdown",
      "source": [
        "To examine this file, go to the left-hand side of the Colab window, click on the folder icon, and you will see there a folder called `sample_data` as well as a single file `accumulation_output.csv`. You can see that we hit an etimated 149 at iteration 911, 150 at iteration 1031, and 151 at 1301."
      ],
      "metadata": {
        "id": "3e0nGlXIwCPq"
      },
      "id": "3e0nGlXIwCPq"
    },
    {
      "cell_type": "markdown",
      "source": [
        "## 2.3 Minimum Additional Sample Size, or Estimating the Number of Documents\n",
        "\n",
        "*This part of the tutorial is based on the Forgotten Books notebook (https://github.com/mikekestemont/forgotten-books), revised to work with the new version of Copia.*\n",
        "\n",
        "Now, having been able to predict and visualise how the number of works would grow if we were able to keep on discovering text witnesses, we can turn to another important method included in the `Copia` package: the `minsample` method.\n",
        "\n",
        "\n",
        "The function `min_add_sample` from `Copia` estimators is a lower-bound estimate of how much more sampling effort would be needed to detect the full diversity of a population, including currently unseen species (i.e. $f_0$) at least once.\n",
        "\n",
        "As input, this function takes the `AbundanceData` object and as output it gives an apporximation of the number of individuals that would have to be sampled to see each unseen species at least once.\n",
        "\n",
        "We can call the `diversity` function with the `minsample` method to see the estimate for the number of witnesses (documents):"
      ],
      "metadata": {
        "id": "8uDUk-UYwVtJ"
      },
      "id": "8uDUk-UYwVtJ"
    },
    {
      "cell_type": "code",
      "source": [
        "minsample_estimate_rounded = round(diversity(ds_works_and_docs, method='minsample'))\n",
        "\n",
        "print('Estimated \"original\" number of documents:', minsample_estimate_rounded)\n"
      ],
      "metadata": {
        "colab": {
          "base_uri": "https://localhost:8080/"
        },
        "id": "UlIm-vnKdauZ",
        "outputId": "02d7fe1d-e153-4a28-f239-5554931c183c"
      },
      "id": "UlIm-vnKdauZ",
      "execution_count": null,
      "outputs": [
        {
          "output_type": "stream",
          "name": "stdout",
          "text": [
            "Estimated \"original\" number of documents: 1739\n"
          ]
        }
      ]
    },
    {
      "cell_type": "markdown",
      "source": [
        "So we would need to have 1738 sightings (documents / witnesses) in total to observe all the works (including the 'lost' ones) at least once.\n",
        "\n",
        "\n",
        "But here again, just like with `chao1`, the `minsample` method also provides an interval, which can be displayed by setting the `CI` parameter to `True`.\n",
        "\n",
        "We will start by running it with just 100 iterations to speed things up. If you have time later, you can change the value of `n_iter` to 10000 to get more accurate numbers."
      ],
      "metadata": {
        "id": "_Ur3oaVGCkeb"
      },
      "id": "_Ur3oaVGCkeb"
    },
    {
      "cell_type": "code",
      "source": [
        "minsample_interval = diversity(ds_works_and_docs, method='minsample', CI=True, n_iter=100, n_jobs=1)\n",
        "print(minsample_interval)"
      ],
      "metadata": {
        "colab": {
          "base_uri": "https://localhost:8080/",
          "height": 118,
          "referenced_widgets": [
            "5b5b0865537e49a4bb53be28838fe546",
            "bb092ab9aa6b4c9b8171ac93721a3f1a",
            "3bbda2d49ba045ea9cec39e575e9dd2e",
            "c6024246b9e24f3fa6abad8eb56ccc19",
            "8640aec6d15549d897f73bcdb084ef6e",
            "37d875bd8da341fdb3b5adb22f4f9f29",
            "89c949e680ce497e87857e54884499a0",
            "659df49d87df43828dc41e7f92b04cb6",
            "ab831462ca8a44e2a47b4f23587ce417",
            "057dd640bdb044c291bbb4ba68e825ed",
            "cf7a74d76a844f66bc1909eeb9f97134"
          ]
        },
        "id": "yut4J-RrCdxF",
        "outputId": "15c9c42e-680c-4565-a4b6-bafe85354dbb"
      },
      "id": "yut4J-RrCdxF",
      "execution_count": null,
      "outputs": [
        {
          "output_type": "display_data",
          "data": {
            "text/plain": [
              "  0%|          | 0/100 [00:00<?, ?it/s]"
            ],
            "application/vnd.jupyter.widget-view+json": {
              "version_major": 2,
              "version_minor": 0,
              "model_id": "5b5b0865537e49a4bb53be28838fe546"
            }
          },
          "metadata": {}
        },
        {
          "output_type": "stream",
          "name": "stdout",
          "text": [
            "est    1738.835045\n",
            "lci    1166.940969\n",
            "uci    2697.690250\n",
            "Name: 0, dtype: float64\n"
          ]
        }
      ]
    },
    {
      "cell_type": "markdown",
      "source": [
        "So after 100 iterations, we see that our estimate of around 1738 (our run `est` = 1738.8350), has the confidence interval between around 1081 and 3002.\n",
        "\n",
        "*Note that your numbers can differ significantly here in terms of total values as we run it on 100 iterations, but your `est` should be close to ours, regardless of the number of iterations.*\n",
        "\n",
        "__What does this mean?__\n",
        "\n",
        "\n",
        "- 1738 is ou point estimate — the single best guess.\n",
        "\n",
        "- [1081, 3002] is our uncertainty range, derived from the empirical distribution of estimates under resampling.\n",
        "\n",
        "\n",
        "This means that, based on your observed data (and the variability in resampled datasets used for bootstrapping), we estimate the minimum sample size at about 1739.\n",
        "\n",
        "We are fairly certain that the actual number of documents needed to observe the lost works lies somewhere between 1081 and 3002, but __this range is quite large__.  \n",
        "\n",
        "\n",
        "The confidence interval ranges from 1,081 to 3,002. This means the lower bound is roughly 38% less than the estimate, and the upper bound is about 73% higher than the estimate.\n",
        "\n",
        "The estimate can be imprecise due to various factors:\n",
        "\n",
        "- small sample size,\n",
        "- high heterogeneity,\n",
        "- or high numbers of rare, or unobserved species.\n",
        "\n",
        "\n",
        "So, although 1,739 is our best estimate, the possible values could vary by -38% to +73%, which is important to keep in mind when interpreting the results. Do not treat 1738 as precise, but rather as the centre point of a much wider plausible interval.\n",
        "\n",
        "[Note: The results you should get after changing the parameter to 10000 are around: `est`: 1738, `lci` 1015, and `uci` 2877, so better but still quite wide]\n",
        "\n",
        "We can visualise this on our accumulation curve, where you will see that the curve is pretty flat within this interval, indicating that no new species are being observed. The dashed grey lines represent the lower and upper values of the interval (`lci` and  `uci`), and the solid grey line represents our point estimate."
      ],
      "metadata": {
        "id": "GPA4_xvVDrhU"
      },
      "id": "GPA4_xvVDrhU"
    },
    {
      "cell_type": "code",
      "source": [
        "accumulation = species_accumulation(ds_works_and_docs, max_steps=3000, n_iter=1000, step_size=10)\n",
        "ax = accumulation_curve(\n",
        "    ds_works_and_docs, accumulation, xlabel=\"Number of witnesses\", ylabel=\"Number of works\")\n",
        "ax.axvline(minsample_interval['est'], c='darkgrey');\n",
        "ax.axvline(minsample_interval['lci'], c='lightgrey', ls='--');\n",
        "ax.axvline(minsample_interval['uci'], c='lightgrey', ls='--');\n",
        "plt.tight_layout()"
      ],
      "metadata": {
        "colab": {
          "base_uri": "https://localhost:8080/",
          "height": 518,
          "referenced_widgets": [
            "bb81703e5baa4e04a97638746551b430",
            "8f780e9513584a9b90030485f44915d4",
            "56178db16d604b8b9dfc5352eb756c0c",
            "774b8288d8934bfd93f6187f8e488d1d",
            "168d965785aa42c58811b127e47dcbb9",
            "d2f79c22920f49d0b30c445b280a3d46",
            "819209cd4a0040ec8394ee039c8d1c43",
            "d2f47c919ebe4eb28160416cff459ef9",
            "852698f9c9934079849159ecb0c59de6",
            "4def491f92d547dd998c72ab0f4e591a",
            "49ceeff4822241ab8a783bd7151222bc"
          ]
        },
        "id": "NoiKSW6nzffe",
        "outputId": "ec99e86b-8dc3-4231-d352-0bdcd4ace617"
      },
      "id": "NoiKSW6nzffe",
      "execution_count": null,
      "outputs": [
        {
          "output_type": "display_data",
          "data": {
            "text/plain": [
              "  0%|          | 0/1000 [00:00<?, ?it/s]"
            ],
            "application/vnd.jupyter.widget-view+json": {
              "version_major": 2,
              "version_minor": 0,
              "model_id": "bb81703e5baa4e04a97638746551b430"
            }
          },
          "metadata": {}
        },
        {
          "output_type": "display_data",
          "data": {
            "text/plain": [
              "<Figure size 640x480 with 1 Axes>"
            ],
            "image/png": "[encoded data removed]"
          },
          "metadata": {}
        }
      ]
    },
    {
      "cell_type": "markdown",
      "source": [
        "## 3. Survival Rates\n",
        "\n",
        "Now when we have the estimates of the species richness (including the unobserved species, so the lost works, $f_0$) and the number of observations needed to observe all unseen species, so the total number of witnesses we'd need to discover, we can simply calculate the survival rates for works and documents."
      ],
      "metadata": {
        "id": "Sr14Jb9x2MfQ"
      },
      "id": "Sr14Jb9x2MfQ"
    },
    {
      "cell_type": "markdown",
      "source": [
        "### 3.1 Survival Rates (Works)\n",
        "\n",
        "If we are happy with using our rounded estimates, we can now quickly calculate the survival rate for our medieval works.\n",
        "We simply divide the number of observed (S_obs) species by the estimated number.\n",
        "\n",
        "You can do it by hand: 117 (observed species) / 151 (estimated species richness) = 0.77\n",
        "\n",
        "But let's do it with a short piece of code:"
      ],
      "metadata": {
        "id": "8Jg4Yjzvzw0k"
      },
      "id": "8Jg4Yjzvzw0k"
    },
    {
      "cell_type": "code",
      "source": [
        "observed_species = ds_works_and_docs.S_obs\n",
        "print(\"Number of observed species (works): \", observed_species)\n",
        "\n",
        "chao1_estimate_rounded = diversity(ds_works_and_docs, method='chao1')\n",
        "print(\"Estimated species richness, so the 'original' number of works:\", chao1_estimate_rounded)\n",
        "\n",
        "survival_ratio = observed_species / chao1_estimate_rounded\n",
        "print(\"Simple survival ratio (works):\", round(survival_ratio, 3))"
      ],
      "metadata": {
        "colab": {
          "base_uri": "https://localhost:8080/"
        },
        "id": "T4fQHVqPzuLn",
        "outputId": "d35bf3ca-991f-47e0-faea-da0baba55b70"
      },
      "id": "T4fQHVqPzuLn",
      "execution_count": null,
      "outputs": [
        {
          "output_type": "stream",
          "name": "stdout",
          "text": [
            "Number of observed species (works):  117\n",
            "Estimated species richness, so the 'original' number of works: 151.45383867832848\n",
            "Simple survival ratio (works): 0.773\n"
          ]
        }
      ]
    },
    {
      "cell_type": "markdown",
      "source": [
        "### _Voila! We have the estimate for the survival ratio of works (77%)_\n",
        "\n",
        "The end of the story? It can be, if you want!\n",
        "\n",
        "But we can add some nuance by using the confidence intervals.\n",
        "\n",
        "In the function below, for the purpose of this exercise, we will set `n_iter` to 100. In your actual future experiments, you want to run it with 10000 iterations to minimise the variation in the `lci` and `uci`."
      ],
      "metadata": {
        "id": "BB3OmTTLCR7R"
      },
      "id": "BB3OmTTLCR7R"
    },
    {
      "cell_type": "code",
      "source": [
        "chao1_interval_ice = diversity(ds_works_and_docs, method='chao1', CI=True, n_iter=100, n_jobs=1)\n",
        "surv_works_mins_ice = ds_works_and_docs.S_obs / chao1_interval_ice\n",
        "print(surv_works_mins_ice)"
      ],
      "metadata": {
        "colab": {
          "base_uri": "https://localhost:8080/",
          "height": 118,
          "referenced_widgets": [
            "0f89ebe439b3454a96ae6b9e7a6edf67",
            "5bec1a25efd84d7db69de52bcf3fad91",
            "2eed53231f944e1aab4a8499a82f54f9",
            "204d8acf0a2742bd8358cb37fef6889f",
            "cd3b3c9109d44a65936ffc608da6b5d8",
            "460b5009a6b74b1fa70c3be43ed6640e",
            "02384476ffd3448b8948a5166ac01c43",
            "9fad09832cea444e8c73940474f082e2",
            "6630acd0c4484ac195e93a6397d20e25",
            "bf2b1f385087406583ae11e2f913e04f",
            "a2e25d8f9ed044d38da27410613ed178"
          ]
        },
        "id": "S8pOy1U9rTfH",
        "outputId": "0a93630d-d824-48da-bb12-efe94a87fea2"
      },
      "id": "S8pOy1U9rTfH",
      "execution_count": null,
      "outputs": [
        {
          "output_type": "display_data",
          "data": {
            "text/plain": [
              "  0%|          | 0/100 [00:00<?, ?it/s]"
            ],
            "application/vnd.jupyter.widget-view+json": {
              "version_major": 2,
              "version_minor": 0,
              "model_id": "0f89ebe439b3454a96ae6b9e7a6edf67"
            }
          },
          "metadata": {}
        },
        {
          "output_type": "stream",
          "name": "stdout",
          "text": [
            "est    0.772513\n",
            "lci    0.886338\n",
            "uci    0.673419\n",
            "Name: 0, dtype: float64\n"
          ]
        }
      ]
    },
    {
      "cell_type": "markdown",
      "source": [
        "Let's store these calculations in a new `dataFrame`, which we will use to visualise the confidence intervals."
      ],
      "metadata": {
        "id": "LTtL2aX_lH03"
      },
      "id": "LTtL2aX_lH03"
    },
    {
      "cell_type": "code",
      "source": [
        "surv = pd.DataFrame()\n",
        "surv['Icelandic'] = surv_works_mins_ice\n",
        "surv.index = ['est', 'uci', 'lci']\n",
        "print(surv)"
      ],
      "metadata": {
        "colab": {
          "base_uri": "https://localhost:8080/"
        },
        "id": "ZFVBGf9zqBny",
        "outputId": "a18a2ce0-97c5-45fc-d859-9b33bce6a1c0"
      },
      "id": "ZFVBGf9zqBny",
      "execution_count": null,
      "outputs": [
        {
          "output_type": "stream",
          "name": "stdout",
          "text": [
            "     Icelandic\n",
            "est   0.772513\n",
            "uci   0.886338\n",
            "lci   0.673419\n"
          ]
        }
      ]
    },
    {
      "cell_type": "markdown",
      "source": [
        "Below, we create a plot showing the confidence intervals, alongside our point estimate."
      ],
      "metadata": {
        "id": "dZACY9_4lbYq"
      },
      "id": "dZACY9_4lbYq"
    },
    {
      "cell_type": "code",
      "source": [
        "main_values = surv.loc['est']\n",
        "upper_ci = surv.loc['uci']\n",
        "lower_ci = surv.loc['lci']\n",
        "errors = [main_values - lower_ci, upper_ci - main_values]\n",
        "fig, ax = plt.subplots(figsize=(6, 8))\n",
        "ax.errorbar(range(len(surv.columns)), main_values, yerr=errors, fmt='o', capsize=5)\n",
        "plt.xticks(range(len(surv.columns)), surv.columns)\n",
        "plt.title(\"Maximum work survival\");"
      ],
      "metadata": {
        "colab": {
          "base_uri": "https://localhost:8080/",
          "height": 733
        },
        "id": "tQme-CkJq3px",
        "outputId": "40fc262a-ae84-4be0-c4fd-67c674cfb90e"
      },
      "id": "tQme-CkJq3px",
      "execution_count": null,
      "outputs": [
        {
          "output_type": "stream",
          "name": "stderr",
          "text": [
            "/usr/local/lib/python3.11/dist-packages/matplotlib/cbook.py:1709: FutureWarning: Calling float on a single element Series is deprecated and will raise a TypeError in the future. Use float(ser.iloc[0]) instead\n",
            "  return math.isfinite(val)\n"
          ]
        },
        {
          "output_type": "display_data",
          "data": {
            "text/plain": [
              "<Figure size 600x800 with 1 Axes>"
            ],
            "image/png": "[encoded data removed]"
          },
          "metadata": {}
        }
      ]
    },
    {
      "cell_type": "markdown",
      "source": [
        "### 3.2 Exercise: Survival Rates (Documents)\n",
        "\n",
        "Using the same logic, we can now simply calculate the survival rate for documents by dividing the number of documents in our dataset by the estimated number of observations, so 294 / 1738 = 0.17.\n",
        "\n",
        "Now it's your turn to code. Using the examples above, can you now calculate the confidence intervals and produce the error bars for the loss of witnesses, instead of works?\n",
        "\n",
        "*Tip: You won't be using chao-1 with intervals set to true, but another method. Do you remember which one?*"
      ],
      "metadata": {
        "id": "bDv-wqT10RxH"
      },
      "id": "bDv-wqT10RxH"
    },
    {
      "cell_type": "code",
      "source": [
        "# Type your code here"
      ],
      "metadata": {
        "id": "ZEdwy9B2peaO"
      },
      "id": "ZEdwy9B2peaO",
      "execution_count": null,
      "outputs": []
    },
    {
      "cell_type": "markdown",
      "source": [
        "## 3.3 Visual Comparison\n",
        "\n",
        "Now you know how to calculate the intervals, and how to visualise them for both works and documents. A single line for Icelandic looks a bit sad, doesn't it?\n",
        "\n",
        "Let's compare it with something.\n",
        "\n",
        "Let's try to compare the survival of works in Dutch and French. We will used the published 'Forgotten Books' dataset that can be found here: https://github.com/mikekestemont/forgotten-books/tree/main/datasets/master\n"
      ],
      "metadata": {
        "id": "zXJrIFlSuwJG"
      },
      "id": "zXJrIFlSuwJG"
    },
    {
      "cell_type": "code",
      "source": [
        "# Dutch\n",
        "url = 'https://raw.githubusercontent.com//mikekestemont/forgotten-books/main/datasets/master/dutch.xlsx'\n",
        "df_dutch = pd.read_excel(url, engine='openpyxl')\n",
        "df_dutch.columns = 'work', 'signature', 'repository'\n",
        "ds_dutch = to_copia_dataset(df_dutch, data_type=\"abundance\", input_type=\"observations\", index_column=\"work\")\n",
        "chao1_interval_dutch = diversity(ds_dutch, method='chao1', CI=True, n_iter=100, n_jobs=1)\n",
        "surv_works_mins_dutch = ds_dutch.S_obs / chao1_interval_dutch\n",
        "print(surv_works_mins_dutch)"
      ],
      "metadata": {
        "colab": {
          "base_uri": "https://localhost:8080/",
          "height": 118,
          "referenced_widgets": [
            "b28d23d7cc0e43b28dc04627d659685d",
            "18c85ba1b9bf49969e43647200fc95f0",
            "9a70b4cdced74310867f2652a337696d",
            "141ebde86fe04f899bdf722e33a0ada1",
            "0f8f84072cc740578023e098608dc43f",
            "882458527b6d4cb6af01686c6a247c85",
            "1454f18c95294bddba8abce9959944f8",
            "27b9d2ecabef4ad8904e0227bae0018d",
            "27fe8e1a0f6f46eb8cd7290b9da77f10",
            "0328793acc9243a380a5cddb346a6d1e",
            "8b970bf484fb4b92aef22dbf7afe26c5"
          ]
        },
        "id": "L-6GdUFh_Epn",
        "outputId": "bb88b167-c329-48e5-cd34-e608dd01a49a"
      },
      "id": "L-6GdUFh_Epn",
      "execution_count": null,
      "outputs": [
        {
          "output_type": "display_data",
          "data": {
            "text/plain": [
              "  0%|          | 0/100 [00:00<?, ?it/s]"
            ],
            "application/vnd.jupyter.widget-view+json": {
              "version_major": 2,
              "version_minor": 0,
              "model_id": "b28d23d7cc0e43b28dc04627d659685d"
            }
          },
          "metadata": {}
        },
        {
          "output_type": "stream",
          "name": "stdout",
          "text": [
            "est    0.492067\n",
            "lci    0.685518\n",
            "uci    0.323859\n",
            "Name: 0, dtype: float64\n"
          ]
        }
      ]
    },
    {
      "cell_type": "code",
      "source": [
        "# French\n",
        "url = 'https://raw.githubusercontent.com//mikekestemont/forgotten-books/main/datasets/master/french.xlsx'\n",
        "df_french = pd.read_excel(url, engine='openpyxl')\n",
        "df_french.columns = 'work', 'signature', 'repository'\n",
        "ds_french = to_copia_dataset(df_french, data_type=\"abundance\", input_type=\"observations\", index_column=\"work\")\n",
        "chao1_interval_french = diversity(ds_french, method='chao1', CI=True, n_iter=100, n_jobs=1)\n",
        "surv_works_mins_french = ds_french.S_obs / chao1_interval_french\n",
        "print(surv_works_mins_french)"
      ],
      "metadata": {
        "colab": {
          "base_uri": "https://localhost:8080/",
          "height": 118,
          "referenced_widgets": [
            "34cad4eb6ba34a02bf8d866a86c4d94b",
            "b86170bc6c024ef2b985b01733d3bc41",
            "7cba1736691f4acc835168aeac54a0dc",
            "22ba89b2adb244a9bceb297478b9fe50",
            "e09ffb700b4c48149ee114d73505e673",
            "b16037706ec245848e0c82a057e708f8",
            "86b167c812514c80a399fc6c7bf6ffdf",
            "39116fa838ed4f3a9cf37cb944f8060b",
            "2afae542a30a429fac47f5febdd03d1e",
            "b34497f8654e491fa6b059f26ca883e2",
            "25cada3c89da4b5c9a61159caa76e6d6"
          ]
        },
        "id": "42b596ruBifL",
        "outputId": "dcf90154-a2da-4abf-bc3b-fd1c046d653e"
      },
      "id": "42b596ruBifL",
      "execution_count": null,
      "outputs": [
        {
          "output_type": "display_data",
          "data": {
            "text/plain": [
              "  0%|          | 0/100 [00:00<?, ?it/s]"
            ],
            "application/vnd.jupyter.widget-view+json": {
              "version_major": 2,
              "version_minor": 0,
              "model_id": "34cad4eb6ba34a02bf8d866a86c4d94b"
            }
          },
          "metadata": {}
        },
        {
          "output_type": "stream",
          "name": "stdout",
          "text": [
            "est    0.535293\n",
            "lci    0.627834\n",
            "uci    0.433611\n",
            "Name: 0, dtype: float64\n"
          ]
        }
      ]
    },
    {
      "cell_type": "code",
      "source": [
        "surv = pd.DataFrame()\n",
        "surv['Icelandic'] = surv_works_mins_ice\n",
        "surv['French'] = surv_works_mins_french\n",
        "surv['Dutch'] = surv_works_mins_dutch\n",
        "surv.index = ['est', 'uci', 'lci']\n",
        "print(surv)"
      ],
      "metadata": {
        "colab": {
          "base_uri": "https://localhost:8080/"
        },
        "id": "GMn2ZyASA8u-",
        "outputId": "811d7198-8e88-43a9-d9e3-f2f9fc58b03d"
      },
      "id": "GMn2ZyASA8u-",
      "execution_count": null,
      "outputs": [
        {
          "output_type": "stream",
          "name": "stdout",
          "text": [
            "     Icelandic    French     Dutch\n",
            "est   0.772513  0.535293  0.492067\n",
            "uci   0.886338  0.627834  0.685518\n",
            "lci   0.673419  0.433611  0.323859\n"
          ]
        }
      ]
    },
    {
      "cell_type": "code",
      "source": [
        "main_values = surv.loc['est']\n",
        "upper_ci = surv.loc['uci']\n",
        "lower_ci = surv.loc['lci']\n",
        "\n",
        "errors = [main_values - lower_ci, upper_ci - main_values]\n",
        "\n",
        "fig, ax = plt.subplots(figsize=(6, 8))\n",
        "ax.errorbar(range(len(surv.columns)), main_values, yerr=errors, fmt='o', capsize=5)\n",
        "plt.xticks(range(len(surv.columns)), surv.columns)\n",
        "plt.title('Maximum work survival for Icelandic, French, and Dutch');"
      ],
      "metadata": {
        "colab": {
          "base_uri": "https://localhost:8080/",
          "height": 698
        },
        "id": "1wnkF7VYBQpv",
        "outputId": "f56e81d9-aec9-48ce-e422-8dbd6f99476a"
      },
      "id": "1wnkF7VYBQpv",
      "execution_count": null,
      "outputs": [
        {
          "output_type": "display_data",
          "data": {
            "text/plain": [
              "<Figure size 600x800 with 1 Axes>"
            ],
            "image/png": "[encoded data removed]"
          },
          "metadata": {}
        }
      ]
    },
    {
      "cell_type": "markdown",
      "source": [
        "The visualisation makes it easy to illustrate not only the differences in the point estimates for each corpus (the blue dot), but also the confidence intervals for each tradition.\n",
        "It looks like the French interval is a bit smaller than the Dutch and the Icelandic. Perhaps due to the differences in the size of the corpus, or its structure. Let examine each dataset.\n",
        "\n",
        "Which difference do you see?\n",
        "\n"
      ],
      "metadata": {
        "id": "od7eXqe7-n3W"
      },
      "id": "od7eXqe7-n3W"
    },
    {
      "cell_type": "code",
      "source": [
        "Icelandic_obs = ds_works_and_docs.S_obs\n",
        "Icelandic_n = ds_works_and_docs.n\n",
        "Icelandic_f1 = ds_works_and_docs.f1\n",
        "Icelandic_f2 = ds_works_and_docs.f2\n",
        "\n",
        "French_obs = ds_french.S_obs\n",
        "French_n = ds_french.n\n",
        "French_f1 = ds_french.f1\n",
        "French_f2 = ds_french.f2\n",
        "\n",
        "Dutch_obs = ds_dutch.S_obs\n",
        "Dutch_n = ds_dutch.n\n",
        "Dutch_f1 = ds_dutch.f1\n",
        "Dutch_f2 = ds_dutch.f2\n",
        "\n",
        "\n",
        "\n",
        "print('Icelandic:', Icelandic_obs, Icelandic_n, Icelandic_f1, Icelandic_f2)\n",
        "print('French:', French_obs, French_n, French_f1, French_f2)\n",
        "print('Dutch:', Dutch_obs, Dutch_n, Dutch_f1, Dutch_f2)"
      ],
      "metadata": {
        "colab": {
          "base_uri": "https://localhost:8080/"
        },
        "id": "FTtDSqZfEJeu",
        "outputId": "fac9b6e3-77e8-4d5e-855f-32a600b0e14c"
      },
      "id": "FTtDSqZfEJeu",
      "execution_count": null,
      "outputs": [
        {
          "output_type": "stream",
          "name": "stdout",
          "text": [
            "Icelandic: 117 294 44 28\n",
            "French: 222 1473 90 21\n",
            "Dutch: 75 167 45 13\n"
          ]
        }
      ]
    },
    {
      "cell_type": "markdown",
      "source": [
        "Yes, you are right that the proportions between the number of texts seen only once and twice is quite different. Not surprising, as this is the fundamental features measured by the `chao1` method."
      ],
      "metadata": {
        "id": "XFO1wVjuG8Wm"
      },
      "id": "XFO1wVjuG8Wm"
    },
    {
      "cell_type": "markdown",
      "source": [
        "## 4. Exercise: Witness or Library Item\n",
        "\n",
        "You might have noticed that in the texts of this notebook we sometimes refer to documents, sometimes to witnesses.\n",
        "\n",
        "This is not because we are being inconsistent. Rather, it is meant to prompt a question about how we count things:\n",
        "- Do we count shelfmarks of extant manuscripts?\n",
        "- Do we count sigla of witnesses (textual attestations of works, which can be divided into multiple codices)?\n",
        "\n",
        "We did the latter, but should we?\n",
        "\n",
        "Consider, for example, the well-known *rímur* manuscript *Staðarhóltsbók rímna*. It is so important that it even has a stub article on the Icelandic Wikipedia: https://is.wikipedia.org/wiki/Sta%C3%B0arh%C3%B3lsb%C3%B3k_r%C3%ADmna. This volume –- a single medieval book –- is today divided into multiple booklets, and some of its texts (witnesses of *rímur*) are split between two booklets. An example is the Staðarhóltsbók witness of _Reinalds rímur_ (a set of riddararímur from the 15th century) which is split between AM 604 a 4to and AM 604 b 4to.\n",
        "\n",
        "How should we count texts like _Reinalds rímur_, which are split between two library items today but clearly represent the same medieval witness?\n"
      ],
      "metadata": {
        "id": "fOxHBGQwxkEv"
      },
      "id": "fOxHBGQwxkEv"
    },
    {
      "cell_type": "code",
      "source": [
        "# Rimur MS\n",
        "import pandas as pd\n",
        "\n",
        "# Define the URL where is your file with raw data in xlsx format\n",
        "url = 'https://raw.githubusercontent.com/KAKDH/UnseenSpeciesCopia-/main/data/ridd_rimur_ms.xlsx'\n",
        "\n",
        "# Read the Excel file (specify the engine just in case)\n",
        "df_mss = pd.read_excel(url, engine='openpyxl')\n",
        "df_mss.columns = 'work', 'work_date', 'signature', 'repository', 'wit_date'\n",
        "\n",
        "ds_mss = to_copia_dataset(\n",
        "   df_mss, data_type=\"abundance\", input_type=\"observations\", index_column=\"work\")\n",
        "print(ds_mss)"
      ],
      "metadata": {
        "colab": {
          "base_uri": "https://localhost:8080/"
        },
        "id": "MyGbXTxe7bjy",
        "outputId": "8b91cce6-cebc-491d-de8e-262858de0078"
      },
      "id": "MyGbXTxe7bjy",
      "execution_count": null,
      "outputs": [
        {
          "output_type": "stream",
          "name": "stdout",
          "text": [
            "AbundanceData(S_obs=24, f1=11, f2=6, n=np.int64(45), counts=array([4, 3, 3, 3, 3, 3, 3, 2, 2, 2, 2, 2, 2, 1, 1, 1, 1, 1, 1, 1, 1, 1,\n",
            "       1, 1]))\n"
          ]
        }
      ]
    },
    {
      "cell_type": "code",
      "source": [
        "url = 'https://raw.githubusercontent.com/KAKDH/UnseenSpeciesCopia-/main/data/ridd_rimur_wit.xlsx'\n",
        "df_wit = pd.read_excel(url, engine='openpyxl')\n",
        "df_wit.columns = 'work', 'work_date', 'signature', 'repository', 'wit_date'\n",
        "\n",
        "ds_wit = to_copia_dataset(\n",
        "   df_wit, data_type=\"abundance\", input_type=\"observations\", index_column=\"work\")\n",
        "print(ds_wit)"
      ],
      "metadata": {
        "colab": {
          "base_uri": "https://localhost:8080/"
        },
        "id": "nyb_hRQZ9dUz",
        "outputId": "b8937d42-fcda-45c7-8f02-314d6fbd107b"
      },
      "id": "nyb_hRQZ9dUz",
      "execution_count": null,
      "outputs": [
        {
          "output_type": "stream",
          "name": "stdout",
          "text": [
            "AbundanceData(S_obs=24, f1=11, f2=7, n=np.int64(44), counts=array([4, 3, 3, 3, 3, 3, 2, 2, 2, 2, 2, 2, 2, 1, 1, 1, 1, 1, 1, 1, 1, 1,\n",
            "       1, 1]))\n"
          ]
        }
      ]
    },
    {
      "cell_type": "code",
      "source": [
        "chao1_interval_mss = diversity(ds_mss, method='chao1', CI=True, n_iter=10000, n_jobs=1)\n",
        "print(chao1_interval_mss)\n"
      ],
      "metadata": {
        "colab": {
          "base_uri": "https://localhost:8080/",
          "height": 118,
          "referenced_widgets": [
            "8e998c270dd74285a511bfe673074288",
            "6743788c44114c9986d019ee5d44a9db",
            "6e6d90373bf64d31b460784ff5eae520",
            "6b7c486f0c634c5aba8f329906ea4c2f",
            "1e11bc2d6c6844dd9ec4e79177fcd0a9",
            "9c5ab93b3cda42e08c17b9599900b7ee",
            "4fb982018bbd4f0cbe78ff2f01210051",
            "eb9ee51b68234988b53334655b5df2b5",
            "441061b656e4480aa459ff7fcfd5016a",
            "ee400e87578148b09a937305cb598f86",
            "b4ef608dd34e4e979999a01445393773"
          ]
        },
        "id": "xZwAnW4f-DT0",
        "outputId": "b32f351c-3959-4a33-bd3e-3db77e5a9804"
      },
      "id": "xZwAnW4f-DT0",
      "execution_count": null,
      "outputs": [
        {
          "output_type": "display_data",
          "data": {
            "text/plain": [
              "  0%|          | 0/10000 [00:00<?, ?it/s]"
            ],
            "application/vnd.jupyter.widget-view+json": {
              "version_major": 2,
              "version_minor": 0,
              "model_id": "8e998c270dd74285a511bfe673074288"
            }
          },
          "metadata": {}
        },
        {
          "output_type": "stream",
          "name": "stdout",
          "text": [
            "est    33.859259\n",
            "lci    21.216723\n",
            "uci    62.827834\n",
            "Name: 0, dtype: float64\n"
          ]
        }
      ]
    },
    {
      "cell_type": "code",
      "source": [
        "chao1_interval_wit = diversity(ds_mss, method='chao1', CI=True, n_iter=10000, n_jobs=1)\n",
        "print(chao1_interval_wit)"
      ],
      "metadata": {
        "colab": {
          "base_uri": "https://localhost:8080/",
          "height": 118,
          "referenced_widgets": [
            "3f624bd63c7147bf91916e3c0cd2a3ad",
            "a9de3db590f54a1c829df4a265ffa94a",
            "142cf5f45fe44c099625dc25011362c8",
            "a575aae45e4b4ea1b097e2baa0ba0919",
            "62a4e234d5b84b57b7ff795ae7c7b954",
            "b6e352f6a8ee41ca8574cfb5b6c1a1d3",
            "f18f033b2ff14698a16f5b48c1577752",
            "a1be94c602454a2894bbb84f5c7325d4",
            "23ebe16a603641539ee7a128411b388a",
            "b045cb7d4633482d8f1cae17e31b0bf1",
            "0b95a0e3694342faa4be25e790b46c15"
          ]
        },
        "id": "dSK5mb8K-Ff8",
        "outputId": "b5db425f-5485-4237-f967-8139dafe2dec"
      },
      "id": "dSK5mb8K-Ff8",
      "execution_count": null,
      "outputs": [
        {
          "output_type": "display_data",
          "data": {
            "text/plain": [
              "  0%|          | 0/10000 [00:00<?, ?it/s]"
            ],
            "application/vnd.jupyter.widget-view+json": {
              "version_major": 2,
              "version_minor": 0,
              "model_id": "3f624bd63c7147bf91916e3c0cd2a3ad"
            }
          },
          "metadata": {}
        },
        {
          "output_type": "stream",
          "name": "stdout",
          "text": [
            "est    33.859259\n",
            "lci    21.708844\n",
            "uci    62.587733\n",
            "Name: 0, dtype: float64\n"
          ]
        }
      ]
    }
  ],
  "metadata": {
    "kernelspec": {
      "display_name": "copiaEnv",
      "language": "python",
      "name": "python3"
    },
    "language_info": {
      "codemirror_mode": {
        "name": "ipython",
        "version": 3
      },
      "file_extension": ".py",
      "mimetype": "text/x-python",
      "name": "python",
      "nbconvert_exporter": "python",
      "pygments_lexer": "ipython3",
      "version": "3.10.16"
    },
    "colab": {
      "provenance": []
    },
    "widgets": {
      "application/vnd.jupyter.widget-state+json": {
        "8e998c270dd74285a511bfe673074288": {
          "model_module": "@jupyter-widgets/controls",
          "model_name": "HBoxModel",
          "model_module_version": "1.5.0",
          "state": {
            "_dom_classes": [],
            "_model_module": "@jupyter-widgets/controls",
            "_model_module_version": "1.5.0",
            "_model_name": "HBoxModel",
            "_view_count": null,
            "_view_module": "@jupyter-widgets/controls",
            "_view_module_version": "1.5.0",
            "_view_name": "HBoxView",
            "box_style": "",
            "children": [
              "IPY_MODEL_6743788c44114c9986d019ee5d44a9db",
              "IPY_MODEL_6e6d90373bf64d31b460784ff5eae520",
              "IPY_MODEL_6b7c486f0c634c5aba8f329906ea4c2f"
            ],
            "layout": "IPY_MODEL_1e11bc2d6c6844dd9ec4e79177fcd0a9"
          }
        },
        "6743788c44114c9986d019ee5d44a9db": {
          "model_module": "@jupyter-widgets/controls",
          "model_name": "HTMLModel",
          "model_module_version": "1.5.0",
          "state": {
            "_dom_classes": [],
            "_model_module": "@jupyter-widgets/controls",
            "_model_module_version": "1.5.0",
            "_model_name": "HTMLModel",
            "_view_count": null,
            "_view_module": "@jupyter-widgets/controls",
            "_view_module_version": "1.5.0",
            "_view_name": "HTMLView",
            "description": "",
            "description_tooltip": null,
            "layout": "IPY_MODEL_9c5ab93b3cda42e08c17b9599900b7ee",
            "placeholder": "​",
            "style": "IPY_MODEL_4fb982018bbd4f0cbe78ff2f01210051",
            "value": "100%"
          }
        },
        "6e6d90373bf64d31b460784ff5eae520": {
          "model_module": "@jupyter-widgets/controls",
          "model_name": "FloatProgressModel",
          "model_module_version": "1.5.0",
          "state": {
            "_dom_classes": [],
            "_model_module": "@jupyter-widgets/controls",
            "_model_module_version": "1.5.0",
            "_model_name": "FloatProgressModel",
            "_view_count": null,
            "_view_module": "@jupyter-widgets/controls",
            "_view_module_version": "1.5.0",
            "_view_name": "ProgressView",
            "bar_style": "success",
            "description": "",
            "description_tooltip": null,
            "layout": "IPY_MODEL_eb9ee51b68234988b53334655b5df2b5",
            "max": 10000,
            "min": 0,
            "orientation": "horizontal",
            "style": "IPY_MODEL_441061b656e4480aa459ff7fcfd5016a",
            "value": 10000
          }
        },
        "6b7c486f0c634c5aba8f329906ea4c2f": {
          "model_module": "@jupyter-widgets/controls",
          "model_name": "HTMLModel",
          "model_module_version": "1.5.0",
          "state": {
            "_dom_classes": [],
            "_model_module": "@jupyter-widgets/controls",
            "_model_module_version": "1.5.0",
            "_model_name": "HTMLModel",
            "_view_count": null,
            "_view_module": "@jupyter-widgets/controls",
            "_view_module_version": "1.5.0",
            "_view_name": "HTMLView",
            "description": "",
            "description_tooltip": null,
            "layout": "IPY_MODEL_ee400e87578148b09a937305cb598f86",
            "placeholder": "​",
            "style": "IPY_MODEL_b4ef608dd34e4e979999a01445393773",
            "value": " 10000/10000 [00:03&lt;00:00, 4676.63it/s]"
          }
        },
        "1e11bc2d6c6844dd9ec4e79177fcd0a9": {
          "model_module": "@jupyter-widgets/base",
          "model_name": "LayoutModel",
          "model_module_version": "1.2.0",
          "state": {
            "_model_module": "@jupyter-widgets/base",
            "_model_module_version": "1.2.0",
            "_model_name": "LayoutModel",
            "_view_count": null,
            "_view_module": "@jupyter-widgets/base",
            "_view_module_version": "1.2.0",
            "_view_name": "LayoutView",
            "align_content": null,
            "align_items": null,
            "align_self": null,
            "border": null,
            "bottom": null,
            "display": null,
            "flex": null,
            "flex_flow": null,
            "grid_area": null,
            "grid_auto_columns": null,
            "grid_auto_flow": null,
            "grid_auto_rows": null,
            "grid_column": null,
            "grid_gap": null,
            "grid_row": null,
            "grid_template_areas": null,
            "grid_template_columns": null,
            "grid_template_rows": null,
            "height": null,
            "justify_content": null,
            "justify_items": null,
            "left": null,
            "margin": null,
            "max_height": null,
            "max_width": null,
            "min_height": null,
            "min_width": null,
            "object_fit": null,
            "object_position": null,
            "order": null,
            "overflow": null,
            "overflow_x": null,
            "overflow_y": null,
            "padding": null,
            "right": null,
            "top": null,
            "visibility": null,
            "width": null
          }
        },
        "9c5ab93b3cda42e08c17b9599900b7ee": {
          "model_module": "@jupyter-widgets/base",
          "model_name": "LayoutModel",
          "model_module_version": "1.2.0",
          "state": {
            "_model_module": "@jupyter-widgets/base",
            "_model_module_version": "1.2.0",
            "_model_name": "LayoutModel",
            "_view_count": null,
            "_view_module": "@jupyter-widgets/base",
            "_view_module_version": "1.2.0",
            "_view_name": "LayoutView",
            "align_content": null,
            "align_items": null,
            "align_self": null,
            "border": null,
            "bottom": null,
            "display": null,
            "flex": null,
            "flex_flow": null,
            "grid_area": null,
            "grid_auto_columns": null,
            "grid_auto_flow": null,
            "grid_auto_rows": null,
            "grid_column": null,
            "grid_gap": null,
            "grid_row": null,
            "grid_template_areas": null,
            "grid_template_columns": null,
            "grid_template_rows": null,
            "height": null,
            "justify_content": null,
            "justify_items": null,
            "left": null,
            "margin": null,
            "max_height": null,
            "max_width": null,
            "min_height": null,
            "min_width": null,
            "object_fit": null,
            "object_position": null,
            "order": null,
            "overflow": null,
            "overflow_x": null,
            "overflow_y": null,
            "padding": null,
            "right": null,
            "top": null,
            "visibility": null,
            "width": null
          }
        },
        "4fb982018bbd4f0cbe78ff2f01210051": {
          "model_module": "@jupyter-widgets/controls",
          "model_name": "DescriptionStyleModel",
          "model_module_version": "1.5.0",
          "state": {
            "_model_module": "@jupyter-widgets/controls",
            "_model_module_version": "1.5.0",
            "_model_name": "DescriptionStyleModel",
            "_view_count": null,
            "_view_module": "@jupyter-widgets/base",
            "_view_module_version": "1.2.0",
            "_view_name": "StyleView",
            "description_width": ""
          }
        },
        "eb9ee51b68234988b53334655b5df2b5": {
          "model_module": "@jupyter-widgets/base",
          "model_name": "LayoutModel",
          "model_module_version": "1.2.0",
          "state": {
            "_model_module": "@jupyter-widgets/base",
            "_model_module_version": "1.2.0",
            "_model_name": "LayoutModel",
            "_view_count": null,
            "_view_module": "@jupyter-widgets/base",
            "_view_module_version": "1.2.0",
            "_view_name": "LayoutView",
            "align_content": null,
            "align_items": null,
            "align_self": null,
            "border": null,
            "bottom": null,
            "display": null,
            "flex": null,
            "flex_flow": null,
            "grid_area": null,
            "grid_auto_columns": null,
            "grid_auto_flow": null,
            "grid_auto_rows": null,
            "grid_column": null,
            "grid_gap": null,
            "grid_row": null,
            "grid_template_areas": null,
            "grid_template_columns": null,
            "grid_template_rows": null,
            "height": null,
            "justify_content": null,
            "justify_items": null,
            "left": null,
            "margin": null,
            "max_height": null,
            "max_width": null,
            "min_height": null,
            "min_width": null,
            "object_fit": null,
            "object_position": null,
            "order": null,
            "overflow": null,
            "overflow_x": null,
            "overflow_y": null,
            "padding": null,
            "right": null,
            "top": null,
            "visibility": null,
            "width": null
          }
        },
        "441061b656e4480aa459ff7fcfd5016a": {
          "model_module": "@jupyter-widgets/controls",
          "model_name": "ProgressStyleModel",
          "model_module_version": "1.5.0",
          "state": {
            "_model_module": "@jupyter-widgets/controls",
            "_model_module_version": "1.5.0",
            "_model_name": "ProgressStyleModel",
            "_view_count": null,
            "_view_module": "@jupyter-widgets/base",
            "_view_module_version": "1.2.0",
            "_view_name": "StyleView",
            "bar_color": null,
            "description_width": ""
          }
        },
        "ee400e87578148b09a937305cb598f86": {
          "model_module": "@jupyter-widgets/base",
          "model_name": "LayoutModel",
          "model_module_version": "1.2.0",
          "state": {
            "_model_module": "@jupyter-widgets/base",
            "_model_module_version": "1.2.0",
            "_model_name": "LayoutModel",
            "_view_count": null,
            "_view_module": "@jupyter-widgets/base",
            "_view_module_version": "1.2.0",
            "_view_name": "LayoutView",
            "align_content": null,
            "align_items": null,
            "align_self": null,
            "border": null,
            "bottom": null,
            "display": null,
            "flex": null,
            "flex_flow": null,
            "grid_area": null,
            "grid_auto_columns": null,
            "grid_auto_flow": null,
            "grid_auto_rows": null,
            "grid_column": null,
            "grid_gap": null,
            "grid_row": null,
            "grid_template_areas": null,
            "grid_template_columns": null,
            "grid_template_rows": null,
            "height": null,
            "justify_content": null,
            "justify_items": null,
            "left": null,
            "margin": null,
            "max_height": null,
            "max_width": null,
            "min_height": null,
            "min_width": null,
            "object_fit": null,
            "object_position": null,
            "order": null,
            "overflow": null,
            "overflow_x": null,
            "overflow_y": null,
            "padding": null,
            "right": null,
            "top": null,
            "visibility": null,
            "width": null
          }
        },
        "b4ef608dd34e4e979999a01445393773": {
          "model_module": "@jupyter-widgets/controls",
          "model_name": "DescriptionStyleModel",
          "model_module_version": "1.5.0",
          "state": {
            "_model_module": "@jupyter-widgets/controls",
            "_model_module_version": "1.5.0",
            "_model_name": "DescriptionStyleModel",
            "_view_count": null,
            "_view_module": "@jupyter-widgets/base",
            "_view_module_version": "1.2.0",
            "_view_name": "StyleView",
            "description_width": ""
          }
        },
        "3f624bd63c7147bf91916e3c0cd2a3ad": {
          "model_module": "@jupyter-widgets/controls",
          "model_name": "HBoxModel",
          "model_module_version": "1.5.0",
          "state": {
            "_dom_classes": [],
            "_model_module": "@jupyter-widgets/controls",
            "_model_module_version": "1.5.0",
            "_model_name": "HBoxModel",
            "_view_count": null,
            "_view_module": "@jupyter-widgets/controls",
            "_view_module_version": "1.5.0",
            "_view_name": "HBoxView",
            "box_style": "",
            "children": [
              "IPY_MODEL_a9de3db590f54a1c829df4a265ffa94a",
              "IPY_MODEL_142cf5f45fe44c099625dc25011362c8",
              "IPY_MODEL_a575aae45e4b4ea1b097e2baa0ba0919"
            ],
            "layout": "IPY_MODEL_62a4e234d5b84b57b7ff795ae7c7b954"
          }
        },
        "a9de3db590f54a1c829df4a265ffa94a": {
          "model_module": "@jupyter-widgets/controls",
          "model_name": "HTMLModel",
          "model_module_version": "1.5.0",
          "state": {
            "_dom_classes": [],
            "_model_module": "@jupyter-widgets/controls",
            "_model_module_version": "1.5.0",
            "_model_name": "HTMLModel",
            "_view_count": null,
            "_view_module": "@jupyter-widgets/controls",
            "_view_module_version": "1.5.0",
            "_view_name": "HTMLView",
            "description": "",
            "description_tooltip": null,
            "layout": "IPY_MODEL_b6e352f6a8ee41ca8574cfb5b6c1a1d3",
            "placeholder": "​",
            "style": "IPY_MODEL_f18f033b2ff14698a16f5b48c1577752",
            "value": "100%"
          }
        },
        "142cf5f45fe44c099625dc25011362c8": {
          "model_module": "@jupyter-widgets/controls",
          "model_name": "FloatProgressModel",
          "model_module_version": "1.5.0",
          "state": {
            "_dom_classes": [],
            "_model_module": "@jupyter-widgets/controls",
            "_model_module_version": "1.5.0",
            "_model_name": "FloatProgressModel",
            "_view_count": null,
            "_view_module": "@jupyter-widgets/controls",
            "_view_module_version": "1.5.0",
            "_view_name": "ProgressView",
            "bar_style": "success",
            "description": "",
            "description_tooltip": null,
            "layout": "IPY_MODEL_a1be94c602454a2894bbb84f5c7325d4",
            "max": 10000,
            "min": 0,
            "orientation": "horizontal",
            "style": "IPY_MODEL_23ebe16a603641539ee7a128411b388a",
            "value": 10000
          }
        },
        "a575aae45e4b4ea1b097e2baa0ba0919": {
          "model_module": "@jupyter-widgets/controls",
          "model_name": "HTMLModel",
          "model_module_version": "1.5.0",
          "state": {
            "_dom_classes": [],
            "_model_module": "@jupyter-widgets/controls",
            "_model_module_version": "1.5.0",
            "_model_name": "HTMLModel",
            "_view_count": null,
            "_view_module": "@jupyter-widgets/controls",
            "_view_module_version": "1.5.0",
            "_view_name": "HTMLView",
            "description": "",
            "description_tooltip": null,
            "layout": "IPY_MODEL_b045cb7d4633482d8f1cae17e31b0bf1",
            "placeholder": "​",
            "style": "IPY_MODEL_0b95a0e3694342faa4be25e790b46c15",
            "value": " 10000/10000 [00:03&lt;00:00, 4861.93it/s]"
          }
        },
        "62a4e234d5b84b57b7ff795ae7c7b954": {
          "model_module": "@jupyter-widgets/base",
          "model_name": "LayoutModel",
          "model_module_version": "1.2.0",
          "state": {
            "_model_module": "@jupyter-widgets/base",
            "_model_module_version": "1.2.0",
            "_model_name": "LayoutModel",
            "_view_count": null,
            "_view_module": "@jupyter-widgets/base",
            "_view_module_version": "1.2.0",
            "_view_name": "LayoutView",
            "align_content": null,
            "align_items": null,
            "align_self": null,
            "border": null,
            "bottom": null,
            "display": null,
            "flex": null,
            "flex_flow": null,
            "grid_area": null,
            "grid_auto_columns": null,
            "grid_auto_flow": null,
            "grid_auto_rows": null,
            "grid_column": null,
            "grid_gap": null,
            "grid_row": null,
            "grid_template_areas": null,
            "grid_template_columns": null,
            "grid_template_rows": null,
            "height": null,
            "justify_content": null,
            "justify_items": null,
            "left": null,
            "margin": null,
            "max_height": null,
            "max_width": null,
            "min_height": null,
            "min_width": null,
            "object_fit": null,
            "object_position": null,
            "order": null,
            "overflow": null,
            "overflow_x": null,
            "overflow_y": null,
            "padding": null,
            "right": null,
            "top": null,
            "visibility": null,
            "width": null
          }
        },
        "b6e352f6a8ee41ca8574cfb5b6c1a1d3": {
          "model_module": "@jupyter-widgets/base",
          "model_name": "LayoutModel",
          "model_module_version": "1.2.0",
          "state": {
            "_model_module": "@jupyter-widgets/base",
            "_model_module_version": "1.2.0",
            "_model_name": "LayoutModel",
            "_view_count": null,
            "_view_module": "@jupyter-widgets/base",
            "_view_module_version": "1.2.0",
            "_view_name": "LayoutView",
            "align_content": null,
            "align_items": null,
            "align_self": null,
            "border": null,
            "bottom": null,
            "display": null,
            "flex": null,
            "flex_flow": null,
            "grid_area": null,
            "grid_auto_columns": null,
            "grid_auto_flow": null,
            "grid_auto_rows": null,
            "grid_column": null,
            "grid_gap": null,
            "grid_row": null,
            "grid_template_areas": null,
            "grid_template_columns": null,
            "grid_template_rows": null,
            "height": null,
            "justify_content": null,
            "justify_items": null,
            "left": null,
            "margin": null,
            "max_height": null,
            "max_width": null,
            "min_height": null,
            "min_width": null,
            "object_fit": null,
            "object_position": null,
            "order": null,
            "overflow": null,
            "overflow_x": null,
            "overflow_y": null,
            "padding": null,
            "right": null,
            "top": null,
            "visibility": null,
            "width": null
          }
        },
        "f18f033b2ff14698a16f5b48c1577752": {
          "model_module": "@jupyter-widgets/controls",
          "model_name": "DescriptionStyleModel",
          "model_module_version": "1.5.0",
          "state": {
            "_model_module": "@jupyter-widgets/controls",
            "_model_module_version": "1.5.0",
            "_model_name": "DescriptionStyleModel",
            "_view_count": null,
            "_view_module": "@jupyter-widgets/base",
            "_view_module_version": "1.2.0",
            "_view_name": "StyleView",
            "description_width": ""
          }
        },
        "a1be94c602454a2894bbb84f5c7325d4": {
          "model_module": "@jupyter-widgets/base",
          "model_name": "LayoutModel",
          "model_module_version": "1.2.0",
          "state": {
            "_model_module": "@jupyter-widgets/base",
            "_model_module_version": "1.2.0",
            "_model_name": "LayoutModel",
            "_view_count": null,
            "_view_module": "@jupyter-widgets/base",
            "_view_module_version": "1.2.0",
            "_view_name": "LayoutView",
            "align_content": null,
            "align_items": null,
            "align_self": null,
            "border": null,
            "bottom": null,
            "display": null,
            "flex": null,
            "flex_flow": null,
            "grid_area": null,
            "grid_auto_columns": null,
            "grid_auto_flow": null,
            "grid_auto_rows": null,
            "grid_column": null,
            "grid_gap": null,
            "grid_row": null,
            "grid_template_areas": null,
            "grid_template_columns": null,
            "grid_template_rows": null,
            "height": null,
            "justify_content": null,
            "justify_items": null,
            "left": null,
            "margin": null,
            "max_height": null,
            "max_width": null,
            "min_height": null,
            "min_width": null,
            "object_fit": null,
            "object_position": null,
            "order": null,
            "overflow": null,
            "overflow_x": null,
            "overflow_y": null,
            "padding": null,
            "right": null,
            "top": null,
            "visibility": null,
            "width": null
          }
        },
        "23ebe16a603641539ee7a128411b388a": {
          "model_module": "@jupyter-widgets/controls",
          "model_name": "ProgressStyleModel",
          "model_module_version": "1.5.0",
          "state": {
            "_model_module": "@jupyter-widgets/controls",
            "_model_module_version": "1.5.0",
            "_model_name": "ProgressStyleModel",
            "_view_count": null,
            "_view_module": "@jupyter-widgets/base",
            "_view_module_version": "1.2.0",
            "_view_name": "StyleView",
            "bar_color": null,
            "description_width": ""
          }
        },
        "b045cb7d4633482d8f1cae17e31b0bf1": {
          "model_module": "@jupyter-widgets/base",
          "model_name": "LayoutModel",
          "model_module_version": "1.2.0",
          "state": {
            "_model_module": "@jupyter-widgets/base",
            "_model_module_version": "1.2.0",
            "_model_name": "LayoutModel",
            "_view_count": null,
            "_view_module": "@jupyter-widgets/base",
            "_view_module_version": "1.2.0",
            "_view_name": "LayoutView",
            "align_content": null,
            "align_items": null,
            "align_self": null,
            "border": null,
            "bottom": null,
            "display": null,
            "flex": null,
            "flex_flow": null,
            "grid_area": null,
            "grid_auto_columns": null,
            "grid_auto_flow": null,
            "grid_auto_rows": null,
            "grid_column": null,
            "grid_gap": null,
            "grid_row": null,
            "grid_template_areas": null,
            "grid_template_columns": null,
            "grid_template_rows": null,
            "height": null,
            "justify_content": null,
            "justify_items": null,
            "left": null,
            "margin": null,
            "max_height": null,
            "max_width": null,
            "min_height": null,
            "min_width": null,
            "object_fit": null,
            "object_position": null,
            "order": null,
            "overflow": null,
            "overflow_x": null,
            "overflow_y": null,
            "padding": null,
            "right": null,
            "top": null,
            "visibility": null,
            "width": null
          }
        },
        "0b95a0e3694342faa4be25e790b46c15": {
          "model_module": "@jupyter-widgets/controls",
          "model_name": "DescriptionStyleModel",
          "model_module_version": "1.5.0",
          "state": {
            "_model_module": "@jupyter-widgets/controls",
            "_model_module_version": "1.5.0",
            "_model_name": "DescriptionStyleModel",
            "_view_count": null,
            "_view_module": "@jupyter-widgets/base",
            "_view_module_version": "1.2.0",
            "_view_name": "StyleView",
            "description_width": ""
          }
        },
        "604ad9c7cd6c46bf878024f079a184d6": {
          "model_module": "@jupyter-widgets/controls",
          "model_name": "HBoxModel",
          "model_module_version": "1.5.0",
          "state": {
            "_dom_classes": [],
            "_model_module": "@jupyter-widgets/controls",
            "_model_module_version": "1.5.0",
            "_model_name": "HBoxModel",
            "_view_count": null,
            "_view_module": "@jupyter-widgets/controls",
            "_view_module_version": "1.5.0",
            "_view_name": "HBoxView",
            "box_style": "",
            "children": [
              "IPY_MODEL_58da4bab466a413db6c821d94078fde1",
              "IPY_MODEL_c3bdad591ac149518d4198f949f6089e",
              "IPY_MODEL_f361ea35be924709a6681b7c0e5e2a8a"
            ],
            "layout": "IPY_MODEL_ee53a9a7187c4ea490fd50d6916e942c"
          }
        },
        "58da4bab466a413db6c821d94078fde1": {
          "model_module": "@jupyter-widgets/controls",
          "model_name": "HTMLModel",
          "model_module_version": "1.5.0",
          "state": {
            "_dom_classes": [],
            "_model_module": "@jupyter-widgets/controls",
            "_model_module_version": "1.5.0",
            "_model_name": "HTMLModel",
            "_view_count": null,
            "_view_module": "@jupyter-widgets/controls",
            "_view_module_version": "1.5.0",
            "_view_name": "HTMLView",
            "description": "",
            "description_tooltip": null,
            "layout": "IPY_MODEL_e4d9e88feee94d0f8b412613cb2cbd26",
            "placeholder": "​",
            "style": "IPY_MODEL_06cc7c98a4ce4a1dab339e4536931b50",
            "value": "100%"
          }
        },
        "c3bdad591ac149518d4198f949f6089e": {
          "model_module": "@jupyter-widgets/controls",
          "model_name": "FloatProgressModel",
          "model_module_version": "1.5.0",
          "state": {
            "_dom_classes": [],
            "_model_module": "@jupyter-widgets/controls",
            "_model_module_version": "1.5.0",
            "_model_name": "FloatProgressModel",
            "_view_count": null,
            "_view_module": "@jupyter-widgets/controls",
            "_view_module_version": "1.5.0",
            "_view_name": "ProgressView",
            "bar_style": "success",
            "description": "",
            "description_tooltip": null,
            "layout": "IPY_MODEL_eb75a77304d94587a7b7307fcdc57f80",
            "max": 10000,
            "min": 0,
            "orientation": "horizontal",
            "style": "IPY_MODEL_1c6bd9da650247a49e5c1ac07eac5749",
            "value": 10000
          }
        },
        "f361ea35be924709a6681b7c0e5e2a8a": {
          "model_module": "@jupyter-widgets/controls",
          "model_name": "HTMLModel",
          "model_module_version": "1.5.0",
          "state": {
            "_dom_classes": [],
            "_model_module": "@jupyter-widgets/controls",
            "_model_module_version": "1.5.0",
            "_model_name": "HTMLModel",
            "_view_count": null,
            "_view_module": "@jupyter-widgets/controls",
            "_view_module_version": "1.5.0",
            "_view_name": "HTMLView",
            "description": "",
            "description_tooltip": null,
            "layout": "IPY_MODEL_0047f285ee3c46d495dbe041f42108d7",
            "placeholder": "​",
            "style": "IPY_MODEL_87e41bc6afdc47279626e0e0d24a3020",
            "value": " 10000/10000 [00:03&lt;00:00, 3832.11it/s]"
          }
        },
        "ee53a9a7187c4ea490fd50d6916e942c": {
          "model_module": "@jupyter-widgets/base",
          "model_name": "LayoutModel",
          "model_module_version": "1.2.0",
          "state": {
            "_model_module": "@jupyter-widgets/base",
            "_model_module_version": "1.2.0",
            "_model_name": "LayoutModel",
            "_view_count": null,
            "_view_module": "@jupyter-widgets/base",
            "_view_module_version": "1.2.0",
            "_view_name": "LayoutView",
            "align_content": null,
            "align_items": null,
            "align_self": null,
            "border": null,
            "bottom": null,
            "display": null,
            "flex": null,
            "flex_flow": null,
            "grid_area": null,
            "grid_auto_columns": null,
            "grid_auto_flow": null,
            "grid_auto_rows": null,
            "grid_column": null,
            "grid_gap": null,
            "grid_row": null,
            "grid_template_areas": null,
            "grid_template_columns": null,
            "grid_template_rows": null,
            "height": null,
            "justify_content": null,
            "justify_items": null,
            "left": null,
            "margin": null,
            "max_height": null,
            "max_width": null,
            "min_height": null,
            "min_width": null,
            "object_fit": null,
            "object_position": null,
            "order": null,
            "overflow": null,
            "overflow_x": null,
            "overflow_y": null,
            "padding": null,
            "right": null,
            "top": null,
            "visibility": null,
            "width": null
          }
        },
        "e4d9e88feee94d0f8b412613cb2cbd26": {
          "model_module": "@jupyter-widgets/base",
          "model_name": "LayoutModel",
          "model_module_version": "1.2.0",
          "state": {
            "_model_module": "@jupyter-widgets/base",
            "_model_module_version": "1.2.0",
            "_model_name": "LayoutModel",
            "_view_count": null,
            "_view_module": "@jupyter-widgets/base",
            "_view_module_version": "1.2.0",
            "_view_name": "LayoutView",
            "align_content": null,
            "align_items": null,
            "align_self": null,
            "border": null,
            "bottom": null,
            "display": null,
            "flex": null,
            "flex_flow": null,
            "grid_area": null,
            "grid_auto_columns": null,
            "grid_auto_flow": null,
            "grid_auto_rows": null,
            "grid_column": null,
            "grid_gap": null,
            "grid_row": null,
            "grid_template_areas": null,
            "grid_template_columns": null,
            "grid_template_rows": null,
            "height": null,
            "justify_content": null,
            "justify_items": null,
            "left": null,
            "margin": null,
            "max_height": null,
            "max_width": null,
            "min_height": null,
            "min_width": null,
            "object_fit": null,
            "object_position": null,
            "order": null,
            "overflow": null,
            "overflow_x": null,
            "overflow_y": null,
            "padding": null,
            "right": null,
            "top": null,
            "visibility": null,
            "width": null
          }
        },
        "06cc7c98a4ce4a1dab339e4536931b50": {
          "model_module": "@jupyter-widgets/controls",
          "model_name": "DescriptionStyleModel",
          "model_module_version": "1.5.0",
          "state": {
            "_model_module": "@jupyter-widgets/controls",
            "_model_module_version": "1.5.0",
            "_model_name": "DescriptionStyleModel",
            "_view_count": null,
            "_view_module": "@jupyter-widgets/base",
            "_view_module_version": "1.2.0",
            "_view_name": "StyleView",
            "description_width": ""
          }
        },
        "eb75a77304d94587a7b7307fcdc57f80": {
          "model_module": "@jupyter-widgets/base",
          "model_name": "LayoutModel",
          "model_module_version": "1.2.0",
          "state": {
            "_model_module": "@jupyter-widgets/base",
            "_model_module_version": "1.2.0",
            "_model_name": "LayoutModel",
            "_view_count": null,
            "_view_module": "@jupyter-widgets/base",
            "_view_module_version": "1.2.0",
            "_view_name": "LayoutView",
            "align_content": null,
            "align_items": null,
            "align_self": null,
            "border": null,
            "bottom": null,
            "display": null,
            "flex": null,
            "flex_flow": null,
            "grid_area": null,
            "grid_auto_columns": null,
            "grid_auto_flow": null,
            "grid_auto_rows": null,
            "grid_column": null,
            "grid_gap": null,
            "grid_row": null,
            "grid_template_areas": null,
            "grid_template_columns": null,
            "grid_template_rows": null,
            "height": null,
            "justify_content": null,
            "justify_items": null,
            "left": null,
            "margin": null,
            "max_height": null,
            "max_width": null,
            "min_height": null,
            "min_width": null,
            "object_fit": null,
            "object_position": null,
            "order": null,
            "overflow": null,
            "overflow_x": null,
            "overflow_y": null,
            "padding": null,
            "right": null,
            "top": null,
            "visibility": null,
            "width": null
          }
        },
        "1c6bd9da650247a49e5c1ac07eac5749": {
          "model_module": "@jupyter-widgets/controls",
          "model_name": "ProgressStyleModel",
          "model_module_version": "1.5.0",
          "state": {
            "_model_module": "@jupyter-widgets/controls",
            "_model_module_version": "1.5.0",
            "_model_name": "ProgressStyleModel",
            "_view_count": null,
            "_view_module": "@jupyter-widgets/base",
            "_view_module_version": "1.2.0",
            "_view_name": "StyleView",
            "bar_color": null,
            "description_width": ""
          }
        },
        "0047f285ee3c46d495dbe041f42108d7": {
          "model_module": "@jupyter-widgets/base",
          "model_name": "LayoutModel",
          "model_module_version": "1.2.0",
          "state": {
            "_model_module": "@jupyter-widgets/base",
            "_model_module_version": "1.2.0",
            "_model_name": "LayoutModel",
            "_view_count": null,
            "_view_module": "@jupyter-widgets/base",
            "_view_module_version": "1.2.0",
            "_view_name": "LayoutView",
            "align_content": null,
            "align_items": null,
            "align_self": null,
            "border": null,
            "bottom": null,
            "display": null,
            "flex": null,
            "flex_flow": null,
            "grid_area": null,
            "grid_auto_columns": null,
            "grid_auto_flow": null,
            "grid_auto_rows": null,
            "grid_column": null,
            "grid_gap": null,
            "grid_row": null,
            "grid_template_areas": null,
            "grid_template_columns": null,
            "grid_template_rows": null,
            "height": null,
            "justify_content": null,
            "justify_items": null,
            "left": null,
            "margin": null,
            "max_height": null,
            "max_width": null,
            "min_height": null,
            "min_width": null,
            "object_fit": null,
            "object_position": null,
            "order": null,
            "overflow": null,
            "overflow_x": null,
            "overflow_y": null,
            "padding": null,
            "right": null,
            "top": null,
            "visibility": null,
            "width": null
          }
        },
        "87e41bc6afdc47279626e0e0d24a3020": {
          "model_module": "@jupyter-widgets/controls",
          "model_name": "DescriptionStyleModel",
          "model_module_version": "1.5.0",
          "state": {
            "_model_module": "@jupyter-widgets/controls",
            "_model_module_version": "1.5.0",
            "_model_name": "DescriptionStyleModel",
            "_view_count": null,
            "_view_module": "@jupyter-widgets/base",
            "_view_module_version": "1.2.0",
            "_view_name": "StyleView",
            "description_width": ""
          }
        },
        "c35717e757f54ef4b4d842a455e78da7": {
          "model_module": "@jupyter-widgets/controls",
          "model_name": "HBoxModel",
          "model_module_version": "1.5.0",
          "state": {
            "_dom_classes": [],
            "_model_module": "@jupyter-widgets/controls",
            "_model_module_version": "1.5.0",
            "_model_name": "HBoxModel",
            "_view_count": null,
            "_view_module": "@jupyter-widgets/controls",
            "_view_module_version": "1.5.0",
            "_view_name": "HBoxView",
            "box_style": "",
            "children": [
              "IPY_MODEL_73db6897541d4aeda9b92096feb55737",
              "IPY_MODEL_895de00145c24f838806a321cdb9ef66",
              "IPY_MODEL_9cdc31e75960483fb30b59e85af236d8"
            ],
            "layout": "IPY_MODEL_457d75c75d0847e591dc413ad9a1c607"
          }
        },
        "73db6897541d4aeda9b92096feb55737": {
          "model_module": "@jupyter-widgets/controls",
          "model_name": "HTMLModel",
          "model_module_version": "1.5.0",
          "state": {
            "_dom_classes": [],
            "_model_module": "@jupyter-widgets/controls",
            "_model_module_version": "1.5.0",
            "_model_name": "HTMLModel",
            "_view_count": null,
            "_view_module": "@jupyter-widgets/controls",
            "_view_module_version": "1.5.0",
            "_view_name": "HTMLView",
            "description": "",
            "description_tooltip": null,
            "layout": "IPY_MODEL_d835da9ab2224baaaedf1d15a4b71f0c",
            "placeholder": "​",
            "style": "IPY_MODEL_88b214bb67c4471f82381a10287db461",
            "value": "100%"
          }
        },
        "895de00145c24f838806a321cdb9ef66": {
          "model_module": "@jupyter-widgets/controls",
          "model_name": "FloatProgressModel",
          "model_module_version": "1.5.0",
          "state": {
            "_dom_classes": [],
            "_model_module": "@jupyter-widgets/controls",
            "_model_module_version": "1.5.0",
            "_model_name": "FloatProgressModel",
            "_view_count": null,
            "_view_module": "@jupyter-widgets/controls",
            "_view_module_version": "1.5.0",
            "_view_name": "ProgressView",
            "bar_style": "success",
            "description": "",
            "description_tooltip": null,
            "layout": "IPY_MODEL_5d49a4e036134859b17685bc98f76d24",
            "max": 200,
            "min": 0,
            "orientation": "horizontal",
            "style": "IPY_MODEL_5f3c51a037a842fab113f603e766dcf0",
            "value": 200
          }
        },
        "9cdc31e75960483fb30b59e85af236d8": {
          "model_module": "@jupyter-widgets/controls",
          "model_name": "HTMLModel",
          "model_module_version": "1.5.0",
          "state": {
            "_dom_classes": [],
            "_model_module": "@jupyter-widgets/controls",
            "_model_module_version": "1.5.0",
            "_model_name": "HTMLModel",
            "_view_count": null,
            "_view_module": "@jupyter-widgets/controls",
            "_view_module_version": "1.5.0",
            "_view_name": "HTMLView",
            "description": "",
            "description_tooltip": null,
            "layout": "IPY_MODEL_0f5bade3ad754621874438ab45b3a35a",
            "placeholder": "​",
            "style": "IPY_MODEL_a4909e348de34036912fdd8348b751fd",
            "value": " 200/200 [00:01&lt;00:00, 210.26it/s]"
          }
        },
        "457d75c75d0847e591dc413ad9a1c607": {
          "model_module": "@jupyter-widgets/base",
          "model_name": "LayoutModel",
          "model_module_version": "1.2.0",
          "state": {
            "_model_module": "@jupyter-widgets/base",
            "_model_module_version": "1.2.0",
            "_model_name": "LayoutModel",
            "_view_count": null,
            "_view_module": "@jupyter-widgets/base",
            "_view_module_version": "1.2.0",
            "_view_name": "LayoutView",
            "align_content": null,
            "align_items": null,
            "align_self": null,
            "border": null,
            "bottom": null,
            "display": null,
            "flex": null,
            "flex_flow": null,
            "grid_area": null,
            "grid_auto_columns": null,
            "grid_auto_flow": null,
            "grid_auto_rows": null,
            "grid_column": null,
            "grid_gap": null,
            "grid_row": null,
            "grid_template_areas": null,
            "grid_template_columns": null,
            "grid_template_rows": null,
            "height": null,
            "justify_content": null,
            "justify_items": null,
            "left": null,
            "margin": null,
            "max_height": null,
            "max_width": null,
            "min_height": null,
            "min_width": null,
            "object_fit": null,
            "object_position": null,
            "order": null,
            "overflow": null,
            "overflow_x": null,
            "overflow_y": null,
            "padding": null,
            "right": null,
            "top": null,
            "visibility": null,
            "width": null
          }
        },
        "d835da9ab2224baaaedf1d15a4b71f0c": {
          "model_module": "@jupyter-widgets/base",
          "model_name": "LayoutModel",
          "model_module_version": "1.2.0",
          "state": {
            "_model_module": "@jupyter-widgets/base",
            "_model_module_version": "1.2.0",
            "_model_name": "LayoutModel",
            "_view_count": null,
            "_view_module": "@jupyter-widgets/base",
            "_view_module_version": "1.2.0",
            "_view_name": "LayoutView",
            "align_content": null,
            "align_items": null,
            "align_self": null,
            "border": null,
            "bottom": null,
            "display": null,
            "flex": null,
            "flex_flow": null,
            "grid_area": null,
            "grid_auto_columns": null,
            "grid_auto_flow": null,
            "grid_auto_rows": null,
            "grid_column": null,
            "grid_gap": null,
            "grid_row": null,
            "grid_template_areas": null,
            "grid_template_columns": null,
            "grid_template_rows": null,
            "height": null,
            "justify_content": null,
            "justify_items": null,
            "left": null,
            "margin": null,
            "max_height": null,
            "max_width": null,
            "min_height": null,
            "min_width": null,
            "object_fit": null,
            "object_position": null,
            "order": null,
            "overflow": null,
            "overflow_x": null,
            "overflow_y": null,
            "padding": null,
            "right": null,
            "top": null,
            "visibility": null,
            "width": null
          }
        },
        "88b214bb67c4471f82381a10287db461": {
          "model_module": "@jupyter-widgets/controls",
          "model_name": "DescriptionStyleModel",
          "model_module_version": "1.5.0",
          "state": {
            "_model_module": "@jupyter-widgets/controls",
            "_model_module_version": "1.5.0",
            "_model_name": "DescriptionStyleModel",
            "_view_count": null,
            "_view_module": "@jupyter-widgets/base",
            "_view_module_version": "1.2.0",
            "_view_name": "StyleView",
            "description_width": ""
          }
        },
        "5d49a4e036134859b17685bc98f76d24": {
          "model_module": "@jupyter-widgets/base",
          "model_name": "LayoutModel",
          "model_module_version": "1.2.0",
          "state": {
            "_model_module": "@jupyter-widgets/base",
            "_model_module_version": "1.2.0",
            "_model_name": "LayoutModel",
            "_view_count": null,
            "_view_module": "@jupyter-widgets/base",
            "_view_module_version": "1.2.0",
            "_view_name": "LayoutView",
            "align_content": null,
            "align_items": null,
            "align_self": null,
            "border": null,
            "bottom": null,
            "display": null,
            "flex": null,
            "flex_flow": null,
            "grid_area": null,
            "grid_auto_columns": null,
            "grid_auto_flow": null,
            "grid_auto_rows": null,
            "grid_column": null,
            "grid_gap": null,
            "grid_row": null,
            "grid_template_areas": null,
            "grid_template_columns": null,
            "grid_template_rows": null,
            "height": null,
            "justify_content": null,
            "justify_items": null,
            "left": null,
            "margin": null,
            "max_height": null,
            "max_width": null,
            "min_height": null,
            "min_width": null,
            "object_fit": null,
            "object_position": null,
            "order": null,
            "overflow": null,
            "overflow_x": null,
            "overflow_y": null,
            "padding": null,
            "right": null,
            "top": null,
            "visibility": null,
            "width": null
          }
        },
        "5f3c51a037a842fab113f603e766dcf0": {
          "model_module": "@jupyter-widgets/controls",
          "model_name": "ProgressStyleModel",
          "model_module_version": "1.5.0",
          "state": {
            "_model_module": "@jupyter-widgets/controls",
            "_model_module_version": "1.5.0",
            "_model_name": "ProgressStyleModel",
            "_view_count": null,
            "_view_module": "@jupyter-widgets/base",
            "_view_module_version": "1.2.0",
            "_view_name": "StyleView",
            "bar_color": null,
            "description_width": ""
          }
        },
        "0f5bade3ad754621874438ab45b3a35a": {
          "model_module": "@jupyter-widgets/base",
          "model_name": "LayoutModel",
          "model_module_version": "1.2.0",
          "state": {
            "_model_module": "@jupyter-widgets/base",
            "_model_module_version": "1.2.0",
            "_model_name": "LayoutModel",
            "_view_count": null,
            "_view_module": "@jupyter-widgets/base",
            "_view_module_version": "1.2.0",
            "_view_name": "LayoutView",
            "align_content": null,
            "align_items": null,
            "align_self": null,
            "border": null,
            "bottom": null,
            "display": null,
            "flex": null,
            "flex_flow": null,
            "grid_area": null,
            "grid_auto_columns": null,
            "grid_auto_flow": null,
            "grid_auto_rows": null,
            "grid_column": null,
            "grid_gap": null,
            "grid_row": null,
            "grid_template_areas": null,
            "grid_template_columns": null,
            "grid_template_rows": null,
            "height": null,
            "justify_content": null,
            "justify_items": null,
            "left": null,
            "margin": null,
            "max_height": null,
            "max_width": null,
            "min_height": null,
            "min_width": null,
            "object_fit": null,
            "object_position": null,
            "order": null,
            "overflow": null,
            "overflow_x": null,
            "overflow_y": null,
            "padding": null,
            "right": null,
            "top": null,
            "visibility": null,
            "width": null
          }
        },
        "a4909e348de34036912fdd8348b751fd": {
          "model_module": "@jupyter-widgets/controls",
          "model_name": "DescriptionStyleModel",
          "model_module_version": "1.5.0",
          "state": {
            "_model_module": "@jupyter-widgets/controls",
            "_model_module_version": "1.5.0",
            "_model_name": "DescriptionStyleModel",
            "_view_count": null,
            "_view_module": "@jupyter-widgets/base",
            "_view_module_version": "1.2.0",
            "_view_name": "StyleView",
            "description_width": ""
          }
        },
        "5b5b0865537e49a4bb53be28838fe546": {
          "model_module": "@jupyter-widgets/controls",
          "model_name": "HBoxModel",
          "model_module_version": "1.5.0",
          "state": {
            "_dom_classes": [],
            "_model_module": "@jupyter-widgets/controls",
            "_model_module_version": "1.5.0",
            "_model_name": "HBoxModel",
            "_view_count": null,
            "_view_module": "@jupyter-widgets/controls",
            "_view_module_version": "1.5.0",
            "_view_name": "HBoxView",
            "box_style": "",
            "children": [
              "IPY_MODEL_bb092ab9aa6b4c9b8171ac93721a3f1a",
              "IPY_MODEL_3bbda2d49ba045ea9cec39e575e9dd2e",
              "IPY_MODEL_c6024246b9e24f3fa6abad8eb56ccc19"
            ],
            "layout": "IPY_MODEL_8640aec6d15549d897f73bcdb084ef6e"
          }
        },
        "bb092ab9aa6b4c9b8171ac93721a3f1a": {
          "model_module": "@jupyter-widgets/controls",
          "model_name": "HTMLModel",
          "model_module_version": "1.5.0",
          "state": {
            "_dom_classes": [],
            "_model_module": "@jupyter-widgets/controls",
            "_model_module_version": "1.5.0",
            "_model_name": "HTMLModel",
            "_view_count": null,
            "_view_module": "@jupyter-widgets/controls",
            "_view_module_version": "1.5.0",
            "_view_name": "HTMLView",
            "description": "",
            "description_tooltip": null,
            "layout": "IPY_MODEL_37d875bd8da341fdb3b5adb22f4f9f29",
            "placeholder": "​",
            "style": "IPY_MODEL_89c949e680ce497e87857e54884499a0",
            "value": "100%"
          }
        },
        "3bbda2d49ba045ea9cec39e575e9dd2e": {
          "model_module": "@jupyter-widgets/controls",
          "model_name": "FloatProgressModel",
          "model_module_version": "1.5.0",
          "state": {
            "_dom_classes": [],
            "_model_module": "@jupyter-widgets/controls",
            "_model_module_version": "1.5.0",
            "_model_name": "FloatProgressModel",
            "_view_count": null,
            "_view_module": "@jupyter-widgets/controls",
            "_view_module_version": "1.5.0",
            "_view_name": "ProgressView",
            "bar_style": "success",
            "description": "",
            "description_tooltip": null,
            "layout": "IPY_MODEL_659df49d87df43828dc41e7f92b04cb6",
            "max": 100,
            "min": 0,
            "orientation": "horizontal",
            "style": "IPY_MODEL_ab831462ca8a44e2a47b4f23587ce417",
            "value": 100
          }
        },
        "c6024246b9e24f3fa6abad8eb56ccc19": {
          "model_module": "@jupyter-widgets/controls",
          "model_name": "HTMLModel",
          "model_module_version": "1.5.0",
          "state": {
            "_dom_classes": [],
            "_model_module": "@jupyter-widgets/controls",
            "_model_module_version": "1.5.0",
            "_model_name": "HTMLModel",
            "_view_count": null,
            "_view_module": "@jupyter-widgets/controls",
            "_view_module_version": "1.5.0",
            "_view_name": "HTMLView",
            "description": "",
            "description_tooltip": null,
            "layout": "IPY_MODEL_057dd640bdb044c291bbb4ba68e825ed",
            "placeholder": "​",
            "style": "IPY_MODEL_cf7a74d76a844f66bc1909eeb9f97134",
            "value": " 100/100 [00:05&lt;00:00, 14.06it/s]"
          }
        },
        "8640aec6d15549d897f73bcdb084ef6e": {
          "model_module": "@jupyter-widgets/base",
          "model_name": "LayoutModel",
          "model_module_version": "1.2.0",
          "state": {
            "_model_module": "@jupyter-widgets/base",
            "_model_module_version": "1.2.0",
            "_model_name": "LayoutModel",
            "_view_count": null,
            "_view_module": "@jupyter-widgets/base",
            "_view_module_version": "1.2.0",
            "_view_name": "LayoutView",
            "align_content": null,
            "align_items": null,
            "align_self": null,
            "border": null,
            "bottom": null,
            "display": null,
            "flex": null,
            "flex_flow": null,
            "grid_area": null,
            "grid_auto_columns": null,
            "grid_auto_flow": null,
            "grid_auto_rows": null,
            "grid_column": null,
            "grid_gap": null,
            "grid_row": null,
            "grid_template_areas": null,
            "grid_template_columns": null,
            "grid_template_rows": null,
            "height": null,
            "justify_content": null,
            "justify_items": null,
            "left": null,
            "margin": null,
            "max_height": null,
            "max_width": null,
            "min_height": null,
            "min_width": null,
            "object_fit": null,
            "object_position": null,
            "order": null,
            "overflow": null,
            "overflow_x": null,
            "overflow_y": null,
            "padding": null,
            "right": null,
            "top": null,
            "visibility": null,
            "width": null
          }
        },
        "37d875bd8da341fdb3b5adb22f4f9f29": {
          "model_module": "@jupyter-widgets/base",
          "model_name": "LayoutModel",
          "model_module_version": "1.2.0",
          "state": {
            "_model_module": "@jupyter-widgets/base",
            "_model_module_version": "1.2.0",
            "_model_name": "LayoutModel",
            "_view_count": null,
            "_view_module": "@jupyter-widgets/base",
            "_view_module_version": "1.2.0",
            "_view_name": "LayoutView",
            "align_content": null,
            "align_items": null,
            "align_self": null,
            "border": null,
            "bottom": null,
            "display": null,
            "flex": null,
            "flex_flow": null,
            "grid_area": null,
            "grid_auto_columns": null,
            "grid_auto_flow": null,
            "grid_auto_rows": null,
            "grid_column": null,
            "grid_gap": null,
            "grid_row": null,
            "grid_template_areas": null,
            "grid_template_columns": null,
            "grid_template_rows": null,
            "height": null,
            "justify_content": null,
            "justify_items": null,
            "left": null,
            "margin": null,
            "max_height": null,
            "max_width": null,
            "min_height": null,
            "min_width": null,
            "object_fit": null,
            "object_position": null,
            "order": null,
            "overflow": null,
            "overflow_x": null,
            "overflow_y": null,
            "padding": null,
            "right": null,
            "top": null,
            "visibility": null,
            "width": null
          }
        },
        "89c949e680ce497e87857e54884499a0": {
          "model_module": "@jupyter-widgets/controls",
          "model_name": "DescriptionStyleModel",
          "model_module_version": "1.5.0",
          "state": {
            "_model_module": "@jupyter-widgets/controls",
            "_model_module_version": "1.5.0",
            "_model_name": "DescriptionStyleModel",
            "_view_count": null,
            "_view_module": "@jupyter-widgets/base",
            "_view_module_version": "1.2.0",
            "_view_name": "StyleView",
            "description_width": ""
          }
        },
        "659df49d87df43828dc41e7f92b04cb6": {
          "model_module": "@jupyter-widgets/base",
          "model_name": "LayoutModel",
          "model_module_version": "1.2.0",
          "state": {
            "_model_module": "@jupyter-widgets/base",
            "_model_module_version": "1.2.0",
            "_model_name": "LayoutModel",
            "_view_count": null,
            "_view_module": "@jupyter-widgets/base",
            "_view_module_version": "1.2.0",
            "_view_name": "LayoutView",
            "align_content": null,
            "align_items": null,
            "align_self": null,
            "border": null,
            "bottom": null,
            "display": null,
            "flex": null,
            "flex_flow": null,
            "grid_area": null,
            "grid_auto_columns": null,
            "grid_auto_flow": null,
            "grid_auto_rows": null,
            "grid_column": null,
            "grid_gap": null,
            "grid_row": null,
            "grid_template_areas": null,
            "grid_template_columns": null,
            "grid_template_rows": null,
            "height": null,
            "justify_content": null,
            "justify_items": null,
            "left": null,
            "margin": null,
            "max_height": null,
            "max_width": null,
            "min_height": null,
            "min_width": null,
            "object_fit": null,
            "object_position": null,
            "order": null,
            "overflow": null,
            "overflow_x": null,
            "overflow_y": null,
            "padding": null,
            "right": null,
            "top": null,
            "visibility": null,
            "width": null
          }
        },
        "ab831462ca8a44e2a47b4f23587ce417": {
          "model_module": "@jupyter-widgets/controls",
          "model_name": "ProgressStyleModel",
          "model_module_version": "1.5.0",
          "state": {
            "_model_module": "@jupyter-widgets/controls",
            "_model_module_version": "1.5.0",
            "_model_name": "ProgressStyleModel",
            "_view_count": null,
            "_view_module": "@jupyter-widgets/base",
            "_view_module_version": "1.2.0",
            "_view_name": "StyleView",
            "bar_color": null,
            "description_width": ""
          }
        },
        "057dd640bdb044c291bbb4ba68e825ed": {
          "model_module": "@jupyter-widgets/base",
          "model_name": "LayoutModel",
          "model_module_version": "1.2.0",
          "state": {
            "_model_module": "@jupyter-widgets/base",
            "_model_module_version": "1.2.0",
            "_model_name": "LayoutModel",
            "_view_count": null,
            "_view_module": "@jupyter-widgets/base",
            "_view_module_version": "1.2.0",
            "_view_name": "LayoutView",
            "align_content": null,
            "align_items": null,
            "align_self": null,
            "border": null,
            "bottom": null,
            "display": null,
            "flex": null,
            "flex_flow": null,
            "grid_area": null,
            "grid_auto_columns": null,
            "grid_auto_flow": null,
            "grid_auto_rows": null,
            "grid_column": null,
            "grid_gap": null,
            "grid_row": null,
            "grid_template_areas": null,
            "grid_template_columns": null,
            "grid_template_rows": null,
            "height": null,
            "justify_content": null,
            "justify_items": null,
            "left": null,
            "margin": null,
            "max_height": null,
            "max_width": null,
            "min_height": null,
            "min_width": null,
            "object_fit": null,
            "object_position": null,
            "order": null,
            "overflow": null,
            "overflow_x": null,
            "overflow_y": null,
            "padding": null,
            "right": null,
            "top": null,
            "visibility": null,
            "width": null
          }
        },
        "cf7a74d76a844f66bc1909eeb9f97134": {
          "model_module": "@jupyter-widgets/controls",
          "model_name": "DescriptionStyleModel",
          "model_module_version": "1.5.0",
          "state": {
            "_model_module": "@jupyter-widgets/controls",
            "_model_module_version": "1.5.0",
            "_model_name": "DescriptionStyleModel",
            "_view_count": null,
            "_view_module": "@jupyter-widgets/base",
            "_view_module_version": "1.2.0",
            "_view_name": "StyleView",
            "description_width": ""
          }
        },
        "bb81703e5baa4e04a97638746551b430": {
          "model_module": "@jupyter-widgets/controls",
          "model_name": "HBoxModel",
          "model_module_version": "1.5.0",
          "state": {
            "_dom_classes": [],
            "_model_module": "@jupyter-widgets/controls",
            "_model_module_version": "1.5.0",
            "_model_name": "HBoxModel",
            "_view_count": null,
            "_view_module": "@jupyter-widgets/controls",
            "_view_module_version": "1.5.0",
            "_view_name": "HBoxView",
            "box_style": "",
            "children": [
              "IPY_MODEL_8f780e9513584a9b90030485f44915d4",
              "IPY_MODEL_56178db16d604b8b9dfc5352eb756c0c",
              "IPY_MODEL_774b8288d8934bfd93f6187f8e488d1d"
            ],
            "layout": "IPY_MODEL_168d965785aa42c58811b127e47dcbb9"
          }
        },
        "8f780e9513584a9b90030485f44915d4": {
          "model_module": "@jupyter-widgets/controls",
          "model_name": "HTMLModel",
          "model_module_version": "1.5.0",
          "state": {
            "_dom_classes": [],
            "_model_module": "@jupyter-widgets/controls",
            "_model_module_version": "1.5.0",
            "_model_name": "HTMLModel",
            "_view_count": null,
            "_view_module": "@jupyter-widgets/controls",
            "_view_module_version": "1.5.0",
            "_view_name": "HTMLView",
            "description": "",
            "description_tooltip": null,
            "layout": "IPY_MODEL_d2f79c22920f49d0b30c445b280a3d46",
            "placeholder": "​",
            "style": "IPY_MODEL_819209cd4a0040ec8394ee039c8d1c43",
            "value": "100%"
          }
        },
        "56178db16d604b8b9dfc5352eb756c0c": {
          "model_module": "@jupyter-widgets/controls",
          "model_name": "FloatProgressModel",
          "model_module_version": "1.5.0",
          "state": {
            "_dom_classes": [],
            "_model_module": "@jupyter-widgets/controls",
            "_model_module_version": "1.5.0",
            "_model_name": "FloatProgressModel",
            "_view_count": null,
            "_view_module": "@jupyter-widgets/controls",
            "_view_module_version": "1.5.0",
            "_view_name": "ProgressView",
            "bar_style": "success",
            "description": "",
            "description_tooltip": null,
            "layout": "IPY_MODEL_d2f47c919ebe4eb28160416cff459ef9",
            "max": 1000,
            "min": 0,
            "orientation": "horizontal",
            "style": "IPY_MODEL_852698f9c9934079849159ecb0c59de6",
            "value": 1000
          }
        },
        "774b8288d8934bfd93f6187f8e488d1d": {
          "model_module": "@jupyter-widgets/controls",
          "model_name": "HTMLModel",
          "model_module_version": "1.5.0",
          "state": {
            "_dom_classes": [],
            "_model_module": "@jupyter-widgets/controls",
            "_model_module_version": "1.5.0",
            "_model_name": "HTMLModel",
            "_view_count": null,
            "_view_module": "@jupyter-widgets/controls",
            "_view_module_version": "1.5.0",
            "_view_name": "HTMLView",
            "description": "",
            "description_tooltip": null,
            "layout": "IPY_MODEL_4def491f92d547dd998c72ab0f4e591a",
            "placeholder": "​",
            "style": "IPY_MODEL_49ceeff4822241ab8a783bd7151222bc",
            "value": " 1000/1000 [00:03&lt;00:00, 533.69it/s]"
          }
        },
        "168d965785aa42c58811b127e47dcbb9": {
          "model_module": "@jupyter-widgets/base",
          "model_name": "LayoutModel",
          "model_module_version": "1.2.0",
          "state": {
            "_model_module": "@jupyter-widgets/base",
            "_model_module_version": "1.2.0",
            "_model_name": "LayoutModel",
            "_view_count": null,
            "_view_module": "@jupyter-widgets/base",
            "_view_module_version": "1.2.0",
            "_view_name": "LayoutView",
            "align_content": null,
            "align_items": null,
            "align_self": null,
            "border": null,
            "bottom": null,
            "display": null,
            "flex": null,
            "flex_flow": null,
            "grid_area": null,
            "grid_auto_columns": null,
            "grid_auto_flow": null,
            "grid_auto_rows": null,
            "grid_column": null,
            "grid_gap": null,
            "grid_row": null,
            "grid_template_areas": null,
            "grid_template_columns": null,
            "grid_template_rows": null,
            "height": null,
            "justify_content": null,
            "justify_items": null,
            "left": null,
            "margin": null,
            "max_height": null,
            "max_width": null,
            "min_height": null,
            "min_width": null,
            "object_fit": null,
            "object_position": null,
            "order": null,
            "overflow": null,
            "overflow_x": null,
            "overflow_y": null,
            "padding": null,
            "right": null,
            "top": null,
            "visibility": null,
            "width": null
          }
        },
        "d2f79c22920f49d0b30c445b280a3d46": {
          "model_module": "@jupyter-widgets/base",
          "model_name": "LayoutModel",
          "model_module_version": "1.2.0",
          "state": {
            "_model_module": "@jupyter-widgets/base",
            "_model_module_version": "1.2.0",
            "_model_name": "LayoutModel",
            "_view_count": null,
            "_view_module": "@jupyter-widgets/base",
            "_view_module_version": "1.2.0",
            "_view_name": "LayoutView",
            "align_content": null,
            "align_items": null,
            "align_self": null,
            "border": null,
            "bottom": null,
            "display": null,
            "flex": null,
            "flex_flow": null,
            "grid_area": null,
            "grid_auto_columns": null,
            "grid_auto_flow": null,
            "grid_auto_rows": null,
            "grid_column": null,
            "grid_gap": null,
            "grid_row": null,
            "grid_template_areas": null,
            "grid_template_columns": null,
            "grid_template_rows": null,
            "height": null,
            "justify_content": null,
            "justify_items": null,
            "left": null,
            "margin": null,
            "max_height": null,
            "max_width": null,
            "min_height": null,
            "min_width": null,
            "object_fit": null,
            "object_position": null,
            "order": null,
            "overflow": null,
            "overflow_x": null,
            "overflow_y": null,
            "padding": null,
            "right": null,
            "top": null,
            "visibility": null,
            "width": null
          }
        },
        "819209cd4a0040ec8394ee039c8d1c43": {
          "model_module": "@jupyter-widgets/controls",
          "model_name": "DescriptionStyleModel",
          "model_module_version": "1.5.0",
          "state": {
            "_model_module": "@jupyter-widgets/controls",
            "_model_module_version": "1.5.0",
            "_model_name": "DescriptionStyleModel",
            "_view_count": null,
            "_view_module": "@jupyter-widgets/base",
            "_view_module_version": "1.2.0",
            "_view_name": "StyleView",
            "description_width": ""
          }
        },
        "d2f47c919ebe4eb28160416cff459ef9": {
          "model_module": "@jupyter-widgets/base",
          "model_name": "LayoutModel",
          "model_module_version": "1.2.0",
          "state": {
            "_model_module": "@jupyter-widgets/base",
            "_model_module_version": "1.2.0",
            "_model_name": "LayoutModel",
            "_view_count": null,
            "_view_module": "@jupyter-widgets/base",
            "_view_module_version": "1.2.0",
            "_view_name": "LayoutView",
            "align_content": null,
            "align_items": null,
            "align_self": null,
            "border": null,
            "bottom": null,
            "display": null,
            "flex": null,
            "flex_flow": null,
            "grid_area": null,
            "grid_auto_columns": null,
            "grid_auto_flow": null,
            "grid_auto_rows": null,
            "grid_column": null,
            "grid_gap": null,
            "grid_row": null,
            "grid_template_areas": null,
            "grid_template_columns": null,
            "grid_template_rows": null,
            "height": null,
            "justify_content": null,
            "justify_items": null,
            "left": null,
            "margin": null,
            "max_height": null,
            "max_width": null,
            "min_height": null,
            "min_width": null,
            "object_fit": null,
            "object_position": null,
            "order": null,
            "overflow": null,
            "overflow_x": null,
            "overflow_y": null,
            "padding": null,
            "right": null,
            "top": null,
            "visibility": null,
            "width": null
          }
        },
        "852698f9c9934079849159ecb0c59de6": {
          "model_module": "@jupyter-widgets/controls",
          "model_name": "ProgressStyleModel",
          "model_module_version": "1.5.0",
          "state": {
            "_model_module": "@jupyter-widgets/controls",
            "_model_module_version": "1.5.0",
            "_model_name": "ProgressStyleModel",
            "_view_count": null,
            "_view_module": "@jupyter-widgets/base",
            "_view_module_version": "1.2.0",
            "_view_name": "StyleView",
            "bar_color": null,
            "description_width": ""
          }
        },
        "4def491f92d547dd998c72ab0f4e591a": {
          "model_module": "@jupyter-widgets/base",
          "model_name": "LayoutModel",
          "model_module_version": "1.2.0",
          "state": {
            "_model_module": "@jupyter-widgets/base",
            "_model_module_version": "1.2.0",
            "_model_name": "LayoutModel",
            "_view_count": null,
            "_view_module": "@jupyter-widgets/base",
            "_view_module_version": "1.2.0",
            "_view_name": "LayoutView",
            "align_content": null,
            "align_items": null,
            "align_self": null,
            "border": null,
            "bottom": null,
            "display": null,
            "flex": null,
            "flex_flow": null,
            "grid_area": null,
            "grid_auto_columns": null,
            "grid_auto_flow": null,
            "grid_auto_rows": null,
            "grid_column": null,
            "grid_gap": null,
            "grid_row": null,
            "grid_template_areas": null,
            "grid_template_columns": null,
            "grid_template_rows": null,
            "height": null,
            "justify_content": null,
            "justify_items": null,
            "left": null,
            "margin": null,
            "max_height": null,
            "max_width": null,
            "min_height": null,
            "min_width": null,
            "object_fit": null,
            "object_position": null,
            "order": null,
            "overflow": null,
            "overflow_x": null,
            "overflow_y": null,
            "padding": null,
            "right": null,
            "top": null,
            "visibility": null,
            "width": null
          }
        },
        "49ceeff4822241ab8a783bd7151222bc": {
          "model_module": "@jupyter-widgets/controls",
          "model_name": "DescriptionStyleModel",
          "model_module_version": "1.5.0",
          "state": {
            "_model_module": "@jupyter-widgets/controls",
            "_model_module_version": "1.5.0",
            "_model_name": "DescriptionStyleModel",
            "_view_count": null,
            "_view_module": "@jupyter-widgets/base",
            "_view_module_version": "1.2.0",
            "_view_name": "StyleView",
            "description_width": ""
          }
        },
        "0f89ebe439b3454a96ae6b9e7a6edf67": {
          "model_module": "@jupyter-widgets/controls",
          "model_name": "HBoxModel",
          "model_module_version": "1.5.0",
          "state": {
            "_dom_classes": [],
            "_model_module": "@jupyter-widgets/controls",
            "_model_module_version": "1.5.0",
            "_model_name": "HBoxModel",
            "_view_count": null,
            "_view_module": "@jupyter-widgets/controls",
            "_view_module_version": "1.5.0",
            "_view_name": "HBoxView",
            "box_style": "",
            "children": [
              "IPY_MODEL_5bec1a25efd84d7db69de52bcf3fad91",
              "IPY_MODEL_2eed53231f944e1aab4a8499a82f54f9",
              "IPY_MODEL_204d8acf0a2742bd8358cb37fef6889f"
            ],
            "layout": "IPY_MODEL_cd3b3c9109d44a65936ffc608da6b5d8"
          }
        },
        "5bec1a25efd84d7db69de52bcf3fad91": {
          "model_module": "@jupyter-widgets/controls",
          "model_name": "HTMLModel",
          "model_module_version": "1.5.0",
          "state": {
            "_dom_classes": [],
            "_model_module": "@jupyter-widgets/controls",
            "_model_module_version": "1.5.0",
            "_model_name": "HTMLModel",
            "_view_count": null,
            "_view_module": "@jupyter-widgets/controls",
            "_view_module_version": "1.5.0",
            "_view_name": "HTMLView",
            "description": "",
            "description_tooltip": null,
            "layout": "IPY_MODEL_460b5009a6b74b1fa70c3be43ed6640e",
            "placeholder": "​",
            "style": "IPY_MODEL_02384476ffd3448b8948a5166ac01c43",
            "value": "100%"
          }
        },
        "2eed53231f944e1aab4a8499a82f54f9": {
          "model_module": "@jupyter-widgets/controls",
          "model_name": "FloatProgressModel",
          "model_module_version": "1.5.0",
          "state": {
            "_dom_classes": [],
            "_model_module": "@jupyter-widgets/controls",
            "_model_module_version": "1.5.0",
            "_model_name": "FloatProgressModel",
            "_view_count": null,
            "_view_module": "@jupyter-widgets/controls",
            "_view_module_version": "1.5.0",
            "_view_name": "ProgressView",
            "bar_style": "success",
            "description": "",
            "description_tooltip": null,
            "layout": "IPY_MODEL_9fad09832cea444e8c73940474f082e2",
            "max": 100,
            "min": 0,
            "orientation": "horizontal",
            "style": "IPY_MODEL_6630acd0c4484ac195e93a6397d20e25",
            "value": 100
          }
        },
        "204d8acf0a2742bd8358cb37fef6889f": {
          "model_module": "@jupyter-widgets/controls",
          "model_name": "HTMLModel",
          "model_module_version": "1.5.0",
          "state": {
            "_dom_classes": [],
            "_model_module": "@jupyter-widgets/controls",
            "_model_module_version": "1.5.0",
            "_model_name": "HTMLModel",
            "_view_count": null,
            "_view_module": "@jupyter-widgets/controls",
            "_view_module_version": "1.5.0",
            "_view_name": "HTMLView",
            "description": "",
            "description_tooltip": null,
            "layout": "IPY_MODEL_bf2b1f385087406583ae11e2f913e04f",
            "placeholder": "​",
            "style": "IPY_MODEL_a2e25d8f9ed044d38da27410613ed178",
            "value": " 100/100 [00:00&lt;00:00, 986.60it/s]"
          }
        },
        "cd3b3c9109d44a65936ffc608da6b5d8": {
          "model_module": "@jupyter-widgets/base",
          "model_name": "LayoutModel",
          "model_module_version": "1.2.0",
          "state": {
            "_model_module": "@jupyter-widgets/base",
            "_model_module_version": "1.2.0",
            "_model_name": "LayoutModel",
            "_view_count": null,
            "_view_module": "@jupyter-widgets/base",
            "_view_module_version": "1.2.0",
            "_view_name": "LayoutView",
            "align_content": null,
            "align_items": null,
            "align_self": null,
            "border": null,
            "bottom": null,
            "display": null,
            "flex": null,
            "flex_flow": null,
            "grid_area": null,
            "grid_auto_columns": null,
            "grid_auto_flow": null,
            "grid_auto_rows": null,
            "grid_column": null,
            "grid_gap": null,
            "grid_row": null,
            "grid_template_areas": null,
            "grid_template_columns": null,
            "grid_template_rows": null,
            "height": null,
            "justify_content": null,
            "justify_items": null,
            "left": null,
            "margin": null,
            "max_height": null,
            "max_width": null,
            "min_height": null,
            "min_width": null,
            "object_fit": null,
            "object_position": null,
            "order": null,
            "overflow": null,
            "overflow_x": null,
            "overflow_y": null,
            "padding": null,
            "right": null,
            "top": null,
            "visibility": null,
            "width": null
          }
        },
        "460b5009a6b74b1fa70c3be43ed6640e": {
          "model_module": "@jupyter-widgets/base",
          "model_name": "LayoutModel",
          "model_module_version": "1.2.0",
          "state": {
            "_model_module": "@jupyter-widgets/base",
            "_model_module_version": "1.2.0",
            "_model_name": "LayoutModel",
            "_view_count": null,
            "_view_module": "@jupyter-widgets/base",
            "_view_module_version": "1.2.0",
            "_view_name": "LayoutView",
            "align_content": null,
            "align_items": null,
            "align_self": null,
            "border": null,
            "bottom": null,
            "display": null,
            "flex": null,
            "flex_flow": null,
            "grid_area": null,
            "grid_auto_columns": null,
            "grid_auto_flow": null,
            "grid_auto_rows": null,
            "grid_column": null,
            "grid_gap": null,
            "grid_row": null,
            "grid_template_areas": null,
            "grid_template_columns": null,
            "grid_template_rows": null,
            "height": null,
            "justify_content": null,
            "justify_items": null,
            "left": null,
            "margin": null,
            "max_height": null,
            "max_width": null,
            "min_height": null,
            "min_width": null,
            "object_fit": null,
            "object_position": null,
            "order": null,
            "overflow": null,
            "overflow_x": null,
            "overflow_y": null,
            "padding": null,
            "right": null,
            "top": null,
            "visibility": null,
            "width": null
          }
        },
        "02384476ffd3448b8948a5166ac01c43": {
          "model_module": "@jupyter-widgets/controls",
          "model_name": "DescriptionStyleModel",
          "model_module_version": "1.5.0",
          "state": {
            "_model_module": "@jupyter-widgets/controls",
            "_model_module_version": "1.5.0",
            "_model_name": "DescriptionStyleModel",
            "_view_count": null,
            "_view_module": "@jupyter-widgets/base",
            "_view_module_version": "1.2.0",
            "_view_name": "StyleView",
            "description_width": ""
          }
        },
        "9fad09832cea444e8c73940474f082e2": {
          "model_module": "@jupyter-widgets/base",
          "model_name": "LayoutModel",
          "model_module_version": "1.2.0",
          "state": {
            "_model_module": "@jupyter-widgets/base",
            "_model_module_version": "1.2.0",
            "_model_name": "LayoutModel",
            "_view_count": null,
            "_view_module": "@jupyter-widgets/base",
            "_view_module_version": "1.2.0",
            "_view_name": "LayoutView",
            "align_content": null,
            "align_items": null,
            "align_self": null,
            "border": null,
            "bottom": null,
            "display": null,
            "flex": null,
            "flex_flow": null,
            "grid_area": null,
            "grid_auto_columns": null,
            "grid_auto_flow": null,
            "grid_auto_rows": null,
            "grid_column": null,
            "grid_gap": null,
            "grid_row": null,
            "grid_template_areas": null,
            "grid_template_columns": null,
            "grid_template_rows": null,
            "height": null,
            "justify_content": null,
            "justify_items": null,
            "left": null,
            "margin": null,
            "max_height": null,
            "max_width": null,
            "min_height": null,
            "min_width": null,
            "object_fit": null,
            "object_position": null,
            "order": null,
            "overflow": null,
            "overflow_x": null,
            "overflow_y": null,
            "padding": null,
            "right": null,
            "top": null,
            "visibility": null,
            "width": null
          }
        },
        "6630acd0c4484ac195e93a6397d20e25": {
          "model_module": "@jupyter-widgets/controls",
          "model_name": "ProgressStyleModel",
          "model_module_version": "1.5.0",
          "state": {
            "_model_module": "@jupyter-widgets/controls",
            "_model_module_version": "1.5.0",
            "_model_name": "ProgressStyleModel",
            "_view_count": null,
            "_view_module": "@jupyter-widgets/base",
            "_view_module_version": "1.2.0",
            "_view_name": "StyleView",
            "bar_color": null,
            "description_width": ""
          }
        },
        "bf2b1f385087406583ae11e2f913e04f": {
          "model_module": "@jupyter-widgets/base",
          "model_name": "LayoutModel",
          "model_module_version": "1.2.0",
          "state": {
            "_model_module": "@jupyter-widgets/base",
            "_model_module_version": "1.2.0",
            "_model_name": "LayoutModel",
            "_view_count": null,
            "_view_module": "@jupyter-widgets/base",
            "_view_module_version": "1.2.0",
            "_view_name": "LayoutView",
            "align_content": null,
            "align_items": null,
            "align_self": null,
            "border": null,
            "bottom": null,
            "display": null,
            "flex": null,
            "flex_flow": null,
            "grid_area": null,
            "grid_auto_columns": null,
            "grid_auto_flow": null,
            "grid_auto_rows": null,
            "grid_column": null,
            "grid_gap": null,
            "grid_row": null,
            "grid_template_areas": null,
            "grid_template_columns": null,
            "grid_template_rows": null,
            "height": null,
            "justify_content": null,
            "justify_items": null,
            "left": null,
            "margin": null,
            "max_height": null,
            "max_width": null,
            "min_height": null,
            "min_width": null,
            "object_fit": null,
            "object_position": null,
            "order": null,
            "overflow": null,
            "overflow_x": null,
            "overflow_y": null,
            "padding": null,
            "right": null,
            "top": null,
            "visibility": null,
            "width": null
          }
        },
        "a2e25d8f9ed044d38da27410613ed178": {
          "model_module": "@jupyter-widgets/controls",
          "model_name": "DescriptionStyleModel",
          "model_module_version": "1.5.0",
          "state": {
            "_model_module": "@jupyter-widgets/controls",
            "_model_module_version": "1.5.0",
            "_model_name": "DescriptionStyleModel",
            "_view_count": null,
            "_view_module": "@jupyter-widgets/base",
            "_view_module_version": "1.2.0",
            "_view_name": "StyleView",
            "description_width": ""
          }
        },
        "b28d23d7cc0e43b28dc04627d659685d": {
          "model_module": "@jupyter-widgets/controls",
          "model_name": "HBoxModel",
          "model_module_version": "1.5.0",
          "state": {
            "_dom_classes": [],
            "_model_module": "@jupyter-widgets/controls",
            "_model_module_version": "1.5.0",
            "_model_name": "HBoxModel",
            "_view_count": null,
            "_view_module": "@jupyter-widgets/controls",
            "_view_module_version": "1.5.0",
            "_view_name": "HBoxView",
            "box_style": "",
            "children": [
              "IPY_MODEL_18c85ba1b9bf49969e43647200fc95f0",
              "IPY_MODEL_9a70b4cdced74310867f2652a337696d",
              "IPY_MODEL_141ebde86fe04f899bdf722e33a0ada1"
            ],
            "layout": "IPY_MODEL_0f8f84072cc740578023e098608dc43f"
          }
        },
        "18c85ba1b9bf49969e43647200fc95f0": {
          "model_module": "@jupyter-widgets/controls",
          "model_name": "HTMLModel",
          "model_module_version": "1.5.0",
          "state": {
            "_dom_classes": [],
            "_model_module": "@jupyter-widgets/controls",
            "_model_module_version": "1.5.0",
            "_model_name": "HTMLModel",
            "_view_count": null,
            "_view_module": "@jupyter-widgets/controls",
            "_view_module_version": "1.5.0",
            "_view_name": "HTMLView",
            "description": "",
            "description_tooltip": null,
            "layout": "IPY_MODEL_882458527b6d4cb6af01686c6a247c85",
            "placeholder": "​",
            "style": "IPY_MODEL_1454f18c95294bddba8abce9959944f8",
            "value": "100%"
          }
        },
        "9a70b4cdced74310867f2652a337696d": {
          "model_module": "@jupyter-widgets/controls",
          "model_name": "FloatProgressModel",
          "model_module_version": "1.5.0",
          "state": {
            "_dom_classes": [],
            "_model_module": "@jupyter-widgets/controls",
            "_model_module_version": "1.5.0",
            "_model_name": "FloatProgressModel",
            "_view_count": null,
            "_view_module": "@jupyter-widgets/controls",
            "_view_module_version": "1.5.0",
            "_view_name": "ProgressView",
            "bar_style": "success",
            "description": "",
            "description_tooltip": null,
            "layout": "IPY_MODEL_27b9d2ecabef4ad8904e0227bae0018d",
            "max": 100,
            "min": 0,
            "orientation": "horizontal",
            "style": "IPY_MODEL_27fe8e1a0f6f46eb8cd7290b9da77f10",
            "value": 100
          }
        },
        "141ebde86fe04f899bdf722e33a0ada1": {
          "model_module": "@jupyter-widgets/controls",
          "model_name": "HTMLModel",
          "model_module_version": "1.5.0",
          "state": {
            "_dom_classes": [],
            "_model_module": "@jupyter-widgets/controls",
            "_model_module_version": "1.5.0",
            "_model_name": "HTMLModel",
            "_view_count": null,
            "_view_module": "@jupyter-widgets/controls",
            "_view_module_version": "1.5.0",
            "_view_name": "HTMLView",
            "description": "",
            "description_tooltip": null,
            "layout": "IPY_MODEL_0328793acc9243a380a5cddb346a6d1e",
            "placeholder": "​",
            "style": "IPY_MODEL_8b970bf484fb4b92aef22dbf7afe26c5",
            "value": " 100/100 [00:00&lt;00:00, 1379.43it/s]"
          }
        },
        "0f8f84072cc740578023e098608dc43f": {
          "model_module": "@jupyter-widgets/base",
          "model_name": "LayoutModel",
          "model_module_version": "1.2.0",
          "state": {
            "_model_module": "@jupyter-widgets/base",
            "_model_module_version": "1.2.0",
            "_model_name": "LayoutModel",
            "_view_count": null,
            "_view_module": "@jupyter-widgets/base",
            "_view_module_version": "1.2.0",
            "_view_name": "LayoutView",
            "align_content": null,
            "align_items": null,
            "align_self": null,
            "border": null,
            "bottom": null,
            "display": null,
            "flex": null,
            "flex_flow": null,
            "grid_area": null,
            "grid_auto_columns": null,
            "grid_auto_flow": null,
            "grid_auto_rows": null,
            "grid_column": null,
            "grid_gap": null,
            "grid_row": null,
            "grid_template_areas": null,
            "grid_template_columns": null,
            "grid_template_rows": null,
            "height": null,
            "justify_content": null,
            "justify_items": null,
            "left": null,
            "margin": null,
            "max_height": null,
            "max_width": null,
            "min_height": null,
            "min_width": null,
            "object_fit": null,
            "object_position": null,
            "order": null,
            "overflow": null,
            "overflow_x": null,
            "overflow_y": null,
            "padding": null,
            "right": null,
            "top": null,
            "visibility": null,
            "width": null
          }
        },
        "882458527b6d4cb6af01686c6a247c85": {
          "model_module": "@jupyter-widgets/base",
          "model_name": "LayoutModel",
          "model_module_version": "1.2.0",
          "state": {
            "_model_module": "@jupyter-widgets/base",
            "_model_module_version": "1.2.0",
            "_model_name": "LayoutModel",
            "_view_count": null,
            "_view_module": "@jupyter-widgets/base",
            "_view_module_version": "1.2.0",
            "_view_name": "LayoutView",
            "align_content": null,
            "align_items": null,
            "align_self": null,
            "border": null,
            "bottom": null,
            "display": null,
            "flex": null,
            "flex_flow": null,
            "grid_area": null,
            "grid_auto_columns": null,
            "grid_auto_flow": null,
            "grid_auto_rows": null,
            "grid_column": null,
            "grid_gap": null,
            "grid_row": null,
            "grid_template_areas": null,
            "grid_template_columns": null,
            "grid_template_rows": null,
            "height": null,
            "justify_content": null,
            "justify_items": null,
            "left": null,
            "margin": null,
            "max_height": null,
            "max_width": null,
            "min_height": null,
            "min_width": null,
            "object_fit": null,
            "object_position": null,
            "order": null,
            "overflow": null,
            "overflow_x": null,
            "overflow_y": null,
            "padding": null,
            "right": null,
            "top": null,
            "visibility": null,
            "width": null
          }
        },
        "1454f18c95294bddba8abce9959944f8": {
          "model_module": "@jupyter-widgets/controls",
          "model_name": "DescriptionStyleModel",
          "model_module_version": "1.5.0",
          "state": {
            "_model_module": "@jupyter-widgets/controls",
            "_model_module_version": "1.5.0",
            "_model_name": "DescriptionStyleModel",
            "_view_count": null,
            "_view_module": "@jupyter-widgets/base",
            "_view_module_version": "1.2.0",
            "_view_name": "StyleView",
            "description_width": ""
          }
        },
        "27b9d2ecabef4ad8904e0227bae0018d": {
          "model_module": "@jupyter-widgets/base",
          "model_name": "LayoutModel",
          "model_module_version": "1.2.0",
          "state": {
            "_model_module": "@jupyter-widgets/base",
            "_model_module_version": "1.2.0",
            "_model_name": "LayoutModel",
            "_view_count": null,
            "_view_module": "@jupyter-widgets/base",
            "_view_module_version": "1.2.0",
            "_view_name": "LayoutView",
            "align_content": null,
            "align_items": null,
            "align_self": null,
            "border": null,
            "bottom": null,
            "display": null,
            "flex": null,
            "flex_flow": null,
            "grid_area": null,
            "grid_auto_columns": null,
            "grid_auto_flow": null,
            "grid_auto_rows": null,
            "grid_column": null,
            "grid_gap": null,
            "grid_row": null,
            "grid_template_areas": null,
            "grid_template_columns": null,
            "grid_template_rows": null,
            "height": null,
            "justify_content": null,
            "justify_items": null,
            "left": null,
            "margin": null,
            "max_height": null,
            "max_width": null,
            "min_height": null,
            "min_width": null,
            "object_fit": null,
            "object_position": null,
            "order": null,
            "overflow": null,
            "overflow_x": null,
            "overflow_y": null,
            "padding": null,
            "right": null,
            "top": null,
            "visibility": null,
            "width": null
          }
        },
        "27fe8e1a0f6f46eb8cd7290b9da77f10": {
          "model_module": "@jupyter-widgets/controls",
          "model_name": "ProgressStyleModel",
          "model_module_version": "1.5.0",
          "state": {
            "_model_module": "@jupyter-widgets/controls",
            "_model_module_version": "1.5.0",
            "_model_name": "ProgressStyleModel",
            "_view_count": null,
            "_view_module": "@jupyter-widgets/base",
            "_view_module_version": "1.2.0",
            "_view_name": "StyleView",
            "bar_color": null,
            "description_width": ""
          }
        },
        "0328793acc9243a380a5cddb346a6d1e": {
          "model_module": "@jupyter-widgets/base",
          "model_name": "LayoutModel",
          "model_module_version": "1.2.0",
          "state": {
            "_model_module": "@jupyter-widgets/base",
            "_model_module_version": "1.2.0",
            "_model_name": "LayoutModel",
            "_view_count": null,
            "_view_module": "@jupyter-widgets/base",
            "_view_module_version": "1.2.0",
            "_view_name": "LayoutView",
            "align_content": null,
            "align_items": null,
            "align_self": null,
            "border": null,
            "bottom": null,
            "display": null,
            "flex": null,
            "flex_flow": null,
            "grid_area": null,
            "grid_auto_columns": null,
            "grid_auto_flow": null,
            "grid_auto_rows": null,
            "grid_column": null,
            "grid_gap": null,
            "grid_row": null,
            "grid_template_areas": null,
            "grid_template_columns": null,
            "grid_template_rows": null,
            "height": null,
            "justify_content": null,
            "justify_items": null,
            "left": null,
            "margin": null,
            "max_height": null,
            "max_width": null,
            "min_height": null,
            "min_width": null,
            "object_fit": null,
            "object_position": null,
            "order": null,
            "overflow": null,
            "overflow_x": null,
            "overflow_y": null,
            "padding": null,
            "right": null,
            "top": null,
            "visibility": null,
            "width": null
          }
        },
        "8b970bf484fb4b92aef22dbf7afe26c5": {
          "model_module": "@jupyter-widgets/controls",
          "model_name": "DescriptionStyleModel",
          "model_module_version": "1.5.0",
          "state": {
            "_model_module": "@jupyter-widgets/controls",
            "_model_module_version": "1.5.0",
            "_model_name": "DescriptionStyleModel",
            "_view_count": null,
            "_view_module": "@jupyter-widgets/base",
            "_view_module_version": "1.2.0",
            "_view_name": "StyleView",
            "description_width": ""
          }
        },
        "34cad4eb6ba34a02bf8d866a86c4d94b": {
          "model_module": "@jupyter-widgets/controls",
          "model_name": "HBoxModel",
          "model_module_version": "1.5.0",
          "state": {
            "_dom_classes": [],
            "_model_module": "@jupyter-widgets/controls",
            "_model_module_version": "1.5.0",
            "_model_name": "HBoxModel",
            "_view_count": null,
            "_view_module": "@jupyter-widgets/controls",
            "_view_module_version": "1.5.0",
            "_view_name": "HBoxView",
            "box_style": "",
            "children": [
              "IPY_MODEL_b86170bc6c024ef2b985b01733d3bc41",
              "IPY_MODEL_7cba1736691f4acc835168aeac54a0dc",
              "IPY_MODEL_22ba89b2adb244a9bceb297478b9fe50"
            ],
            "layout": "IPY_MODEL_e09ffb700b4c48149ee114d73505e673"
          }
        },
        "b86170bc6c024ef2b985b01733d3bc41": {
          "model_module": "@jupyter-widgets/controls",
          "model_name": "HTMLModel",
          "model_module_version": "1.5.0",
          "state": {
            "_dom_classes": [],
            "_model_module": "@jupyter-widgets/controls",
            "_model_module_version": "1.5.0",
            "_model_name": "HTMLModel",
            "_view_count": null,
            "_view_module": "@jupyter-widgets/controls",
            "_view_module_version": "1.5.0",
            "_view_name": "HTMLView",
            "description": "",
            "description_tooltip": null,
            "layout": "IPY_MODEL_b16037706ec245848e0c82a057e708f8",
            "placeholder": "​",
            "style": "IPY_MODEL_86b167c812514c80a399fc6c7bf6ffdf",
            "value": "100%"
          }
        },
        "7cba1736691f4acc835168aeac54a0dc": {
          "model_module": "@jupyter-widgets/controls",
          "model_name": "FloatProgressModel",
          "model_module_version": "1.5.0",
          "state": {
            "_dom_classes": [],
            "_model_module": "@jupyter-widgets/controls",
            "_model_module_version": "1.5.0",
            "_model_name": "FloatProgressModel",
            "_view_count": null,
            "_view_module": "@jupyter-widgets/controls",
            "_view_module_version": "1.5.0",
            "_view_name": "ProgressView",
            "bar_style": "success",
            "description": "",
            "description_tooltip": null,
            "layout": "IPY_MODEL_39116fa838ed4f3a9cf37cb944f8060b",
            "max": 100,
            "min": 0,
            "orientation": "horizontal",
            "style": "IPY_MODEL_2afae542a30a429fac47f5febdd03d1e",
            "value": 100
          }
        },
        "22ba89b2adb244a9bceb297478b9fe50": {
          "model_module": "@jupyter-widgets/controls",
          "model_name": "HTMLModel",
          "model_module_version": "1.5.0",
          "state": {
            "_dom_classes": [],
            "_model_module": "@jupyter-widgets/controls",
            "_model_module_version": "1.5.0",
            "_model_name": "HTMLModel",
            "_view_count": null,
            "_view_module": "@jupyter-widgets/controls",
            "_view_module_version": "1.5.0",
            "_view_name": "HTMLView",
            "description": "",
            "description_tooltip": null,
            "layout": "IPY_MODEL_b34497f8654e491fa6b059f26ca883e2",
            "placeholder": "​",
            "style": "IPY_MODEL_25cada3c89da4b5c9a61159caa76e6d6",
            "value": " 100/100 [00:00&lt;00:00, 1212.52it/s]"
          }
        },
        "e09ffb700b4c48149ee114d73505e673": {
          "model_module": "@jupyter-widgets/base",
          "model_name": "LayoutModel",
          "model_module_version": "1.2.0",
          "state": {
            "_model_module": "@jupyter-widgets/base",
            "_model_module_version": "1.2.0",
            "_model_name": "LayoutModel",
            "_view_count": null,
            "_view_module": "@jupyter-widgets/base",
            "_view_module_version": "1.2.0",
            "_view_name": "LayoutView",
            "align_content": null,
            "align_items": null,
            "align_self": null,
            "border": null,
            "bottom": null,
            "display": null,
            "flex": null,
            "flex_flow": null,
            "grid_area": null,
            "grid_auto_columns": null,
            "grid_auto_flow": null,
            "grid_auto_rows": null,
            "grid_column": null,
            "grid_gap": null,
            "grid_row": null,
            "grid_template_areas": null,
            "grid_template_columns": null,
            "grid_template_rows": null,
            "height": null,
            "justify_content": null,
            "justify_items": null,
            "left": null,
            "margin": null,
            "max_height": null,
            "max_width": null,
            "min_height": null,
            "min_width": null,
            "object_fit": null,
            "object_position": null,
            "order": null,
            "overflow": null,
            "overflow_x": null,
            "overflow_y": null,
            "padding": null,
            "right": null,
            "top": null,
            "visibility": null,
            "width": null
          }
        },
        "b16037706ec245848e0c82a057e708f8": {
          "model_module": "@jupyter-widgets/base",
          "model_name": "LayoutModel",
          "model_module_version": "1.2.0",
          "state": {
            "_model_module": "@jupyter-widgets/base",
            "_model_module_version": "1.2.0",
            "_model_name": "LayoutModel",
            "_view_count": null,
            "_view_module": "@jupyter-widgets/base",
            "_view_module_version": "1.2.0",
            "_view_name": "LayoutView",
            "align_content": null,
            "align_items": null,
            "align_self": null,
            "border": null,
            "bottom": null,
            "display": null,
            "flex": null,
            "flex_flow": null,
            "grid_area": null,
            "grid_auto_columns": null,
            "grid_auto_flow": null,
            "grid_auto_rows": null,
            "grid_column": null,
            "grid_gap": null,
            "grid_row": null,
            "grid_template_areas": null,
            "grid_template_columns": null,
            "grid_template_rows": null,
            "height": null,
            "justify_content": null,
            "justify_items": null,
            "left": null,
            "margin": null,
            "max_height": null,
            "max_width": null,
            "min_height": null,
            "min_width": null,
            "object_fit": null,
            "object_position": null,
            "order": null,
            "overflow": null,
            "overflow_x": null,
            "overflow_y": null,
            "padding": null,
            "right": null,
            "top": null,
            "visibility": null,
            "width": null
          }
        },
        "86b167c812514c80a399fc6c7bf6ffdf": {
          "model_module": "@jupyter-widgets/controls",
          "model_name": "DescriptionStyleModel",
          "model_module_version": "1.5.0",
          "state": {
            "_model_module": "@jupyter-widgets/controls",
            "_model_module_version": "1.5.0",
            "_model_name": "DescriptionStyleModel",
            "_view_count": null,
            "_view_module": "@jupyter-widgets/base",
            "_view_module_version": "1.2.0",
            "_view_name": "StyleView",
            "description_width": ""
          }
        },
        "39116fa838ed4f3a9cf37cb944f8060b": {
          "model_module": "@jupyter-widgets/base",
          "model_name": "LayoutModel",
          "model_module_version": "1.2.0",
          "state": {
            "_model_module": "@jupyter-widgets/base",
            "_model_module_version": "1.2.0",
            "_model_name": "LayoutModel",
            "_view_count": null,
            "_view_module": "@jupyter-widgets/base",
            "_view_module_version": "1.2.0",
            "_view_name": "LayoutView",
            "align_content": null,
            "align_items": null,
            "align_self": null,
            "border": null,
            "bottom": null,
            "display": null,
            "flex": null,
            "flex_flow": null,
            "grid_area": null,
            "grid_auto_columns": null,
            "grid_auto_flow": null,
            "grid_auto_rows": null,
            "grid_column": null,
            "grid_gap": null,
            "grid_row": null,
            "grid_template_areas": null,
            "grid_template_columns": null,
            "grid_template_rows": null,
            "height": null,
            "justify_content": null,
            "justify_items": null,
            "left": null,
            "margin": null,
            "max_height": null,
            "max_width": null,
            "min_height": null,
            "min_width": null,
            "object_fit": null,
            "object_position": null,
            "order": null,
            "overflow": null,
            "overflow_x": null,
            "overflow_y": null,
            "padding": null,
            "right": null,
            "top": null,
            "visibility": null,
            "width": null
          }
        },
        "2afae542a30a429fac47f5febdd03d1e": {
          "model_module": "@jupyter-widgets/controls",
          "model_name": "ProgressStyleModel",
          "model_module_version": "1.5.0",
          "state": {
            "_model_module": "@jupyter-widgets/controls",
            "_model_module_version": "1.5.0",
            "_model_name": "ProgressStyleModel",
            "_view_count": null,
            "_view_module": "@jupyter-widgets/base",
            "_view_module_version": "1.2.0",
            "_view_name": "StyleView",
            "bar_color": null,
            "description_width": ""
          }
        },
        "b34497f8654e491fa6b059f26ca883e2": {
          "model_module": "@jupyter-widgets/base",
          "model_name": "LayoutModel",
          "model_module_version": "1.2.0",
          "state": {
            "_model_module": "@jupyter-widgets/base",
            "_model_module_version": "1.2.0",
            "_model_name": "LayoutModel",
            "_view_count": null,
            "_view_module": "@jupyter-widgets/base",
            "_view_module_version": "1.2.0",
            "_view_name": "LayoutView",
            "align_content": null,
            "align_items": null,
            "align_self": null,
            "border": null,
            "bottom": null,
            "display": null,
            "flex": null,
            "flex_flow": null,
            "grid_area": null,
            "grid_auto_columns": null,
            "grid_auto_flow": null,
            "grid_auto_rows": null,
            "grid_column": null,
            "grid_gap": null,
            "grid_row": null,
            "grid_template_areas": null,
            "grid_template_columns": null,
            "grid_template_rows": null,
            "height": null,
            "justify_content": null,
            "justify_items": null,
            "left": null,
            "margin": null,
            "max_height": null,
            "max_width": null,
            "min_height": null,
            "min_width": null,
            "object_fit": null,
            "object_position": null,
            "order": null,
            "overflow": null,
            "overflow_x": null,
            "overflow_y": null,
            "padding": null,
            "right": null,
            "top": null,
            "visibility": null,
            "width": null
          }
        },
        "25cada3c89da4b5c9a61159caa76e6d6": {
          "model_module": "@jupyter-widgets/controls",
          "model_name": "DescriptionStyleModel",
          "model_module_version": "1.5.0",
          "state": {
            "_model_module": "@jupyter-widgets/controls",
            "_model_module_version": "1.5.0",
            "_model_name": "DescriptionStyleModel",
            "_view_count": null,
            "_view_module": "@jupyter-widgets/base",
            "_view_module_version": "1.2.0",
            "_view_name": "StyleView",
            "description_width": ""
          }
        }
      }
    }
  },
  "nbformat": 4,
  "nbformat_minor": 5
}